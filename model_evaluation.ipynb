{
 "metadata": {
  "language_info": {
   "codemirror_mode": {
    "name": "ipython",
    "version": 3
   },
   "file_extension": ".py",
   "mimetype": "text/x-python",
   "name": "python",
   "nbconvert_exporter": "python",
   "pygments_lexer": "ipython3",
   "version": "3.8.5-final"
  },
  "orig_nbformat": 2,
  "kernelspec": {
   "name": "python3",
   "display_name": "Python 3.8.5 64-bit (conda)",
   "metadata": {
    "interpreter": {
     "hash": "a0c3029f12739339dde71669ba2ff1aec7ac85f57fdccddb1ca7c49e1b305e1a"
    }
   }
  }
 },
 "nbformat": 4,
 "nbformat_minor": 2,
 "cells": [
  {
   "cell_type": "code",
   "execution_count": 1,
   "metadata": {},
   "outputs": [
    {
     "output_type": "stream",
     "name": "stderr",
     "text": [
      "[nltk_data] Downloading package punkt to\n[nltk_data]     C:\\Users\\yok018\\AppData\\Roaming\\nltk_data...\n[nltk_data]   Package punkt is already up-to-date!\n[nltk_data] Downloading package twitter_samples to\n[nltk_data]     C:\\Users\\yok018\\AppData\\Roaming\\nltk_data...\n[nltk_data]   Package twitter_samples is already up-to-date!\n[nltk_data] Downloading package wordnet to\n[nltk_data]     C:\\Users\\yok018\\AppData\\Roaming\\nltk_data...\n[nltk_data]   Package wordnet is already up-to-date!\n[nltk_data] Downloading package averaged_perceptron_tagger to\n[nltk_data]     C:\\Users\\yok018\\AppData\\Roaming\\nltk_data...\n[nltk_data]   Package averaged_perceptron_tagger is already up-to-\n[nltk_data]       date!\n"
     ]
    }
   ],
   "source": [
    "import numpy as np\n",
    "import pandas as pd\n",
    "import time\n",
    "\n",
    "import requests\n",
    "import bs4\n",
    "import json\n",
    "import re\n",
    "\n",
    "import tokenizer"
   ]
  },
  {
   "cell_type": "code",
   "execution_count": 2,
   "metadata": {},
   "outputs": [],
   "source": [
    "def stock_prices(ticker):\n",
    "    \"\"\"\n",
    "    ticker is the abbreviated symbol for a stock e.g.AAPL\n",
    "    this function returns the daily price history of the requested stock as a dataframe\n",
    "    \"\"\"\n",
    "    ticker = ticker.lower()\n",
    "    filepath = 'quotes/' + ticker + '_quotes.csv'\n",
    "    return pd.read_csv(filepath)\n",
    "\n",
    "def ny_times_articles(keyword):\n",
    "    url_dict = {}\n",
    "    index = 0\n",
    "    for i in range(40):\n",
    "        response = requests.get(\"https://api.nytimes.com/svc/search/v2/articlesearch.json?q=\"+ keyword +\"&fq=news_desk:Business&page=\"+str(i)+\"&api-key=fO0tDSRQQdU68GkuXbMjt1uA2FYImzVp\").json()\n",
    "        try:\n",
    "            docs = response['response']['docs']\n",
    "            for item in docs:\n",
    "                if (item['web_url'][8] == 'w') and ('video' not in item['web_url']): # To remove 'https://bits.blogs.nytimes...' or ''https://dealbook.nytimes...'\n",
    "                    link = item['web_url']\n",
    "                    date = link[24:28] + '-' + link[29:31] + '-' + link[32:34]\n",
    "                    url_dict[index] = tuple((link, date))\n",
    "                    index += 1\n",
    "        except KeyError:\n",
    "            continue\n",
    "    return url_dict"
   ]
  },
  {
   "cell_type": "code",
   "execution_count": 3,
   "metadata": {},
   "outputs": [],
   "source": [
    "stocks = stock_prices('AAPL')\n",
    "url_dict = ny_times_articles('apple')"
   ]
  },
  {
   "cell_type": "code",
   "execution_count": 4,
   "metadata": {},
   "outputs": [
    {
     "output_type": "execute_result",
     "data": {
      "text/plain": [
       "{0: ('https://www.nytimes.com/2020/12/16/technology/facebook-takes-the-gloves-off-in-feud-with-apple.html',\n",
       "  '2020-12-16'),\n",
       " 1: ('https://www.nytimes.com/2020/12/13/business/media/apple-gawker-tim-cook.html',\n",
       "  '2020-12-13'),\n",
       " 2: ('https://www.nytimes.com/2020/12/23/business/dealbook/trump-stimulus-veto.html',\n",
       "  '2020-12-23'),\n",
       " 3: ('https://www.nytimes.com/2020/12/17/technology/google-antitrust-monopoly.html',\n",
       "  '2020-12-17'),\n",
       " 4: ('https://www.nytimes.com/2020/12/17/business/dealbook/tech-apple-facebook-fight.html',\n",
       "  '2020-12-17'),\n",
       " 5: ('https://www.nytimes.com/2020/12/01/technology/amazon-apple-chips-intel-arm.html',\n",
       "  '2020-12-01'),\n",
       " 6: ('https://www.nytimes.com/2020/12/15/technology/big-tech-regulation-europe.html',\n",
       "  '2020-12-15'),\n",
       " 7: ('https://www.nytimes.com/2020/12/14/technology/big-tech-lobbying-europe.html',\n",
       "  '2020-12-14'),\n",
       " 8: ('https://www.nytimes.com/2020/12/09/technology/personaltech/amazon-halo-review.html',\n",
       "  '2020-12-09'),\n",
       " 9: ('https://www.nytimes.com/2020/11/18/technology/apple-app-store-fee.html',\n",
       "  '2020-11-18'),\n",
       " 10: ('https://www.nytimes.com/2020/11/10/technology/apple-chips-intel.html',\n",
       "  '2020-11-10'),\n",
       " 11: ('https://www.nytimes.com/2020/11/09/business/apple-china-pegatron.html',\n",
       "  '2020-11-09'),\n",
       " 12: ('https://www.nytimes.com/2020/11/10/technology/biden-tech-antitrust-privacy.html',\n",
       "  '2020-11-10'),\n",
       " 13: ('https://www.nytimes.com/2020/10/27/business/media/jon-stewart-apple-tv.html',\n",
       "  '2020-10-27'),\n",
       " 14: ('https://www.nytimes.com/2020/10/25/technology/apple-google-search-antitrust.html',\n",
       "  '2020-10-25'),\n",
       " 15: ('https://www.nytimes.com/2020/10/29/technology/apple-alphabet-facebook-amazon-google-earnings.html',\n",
       "  '2020-10-29'),\n",
       " 16: ('https://www.nytimes.com/2020/10/20/technology/personaltech/apple-iphone-12-review.html',\n",
       "  '2020-10-20'),\n",
       " 17: ('https://www.nytimes.com/2020/10/22/technology/antitrust-laws-tech-new-regulator.html',\n",
       "  '2020-10-22'),\n",
       " 18: ('https://www.nytimes.com/2020/10/21/technology/big-tech-professional-opponents.html',\n",
       "  '2020-10-21'),\n",
       " 19: ('https://www.nytimes.com/2020/10/09/technology/apple-fortnite-app-store.html',\n",
       "  '2020-10-09'),\n",
       " 20: ('https://www.nytimes.com/2020/10/06/technology/amazon-apple-facebook-google-antitrust-report.html',\n",
       "  '2020-10-06'),\n",
       " 21: ('https://www.nytimes.com/2020/10/13/technology/so-should-you-buy-a-new-phone-or-not.html',\n",
       "  '2020-10-13'),\n",
       " 22: ('https://www.nytimes.com/2020/10/12/technology/you-cant-escape-ubers-lobbying.html',\n",
       "  '2020-10-12'),\n",
       " 23: ('https://www.nytimes.com/2020/10/08/technology/microsoft-mobile-applications-competition.html',\n",
       "  '2020-10-08'),\n",
       " 24: ('https://www.nytimes.com/2020/09/28/technology/apple-epic-app-court.html',\n",
       "  '2020-09-28'),\n",
       " 25: ('https://www.nytimes.com/2020/10/06/technology/congress-big-tech-monopoly-power.html',\n",
       "  '2020-10-06'),\n",
       " 26: ('https://www.nytimes.com/2020/10/06/technology/lawmakers-big-tech-power-bipartisan.html',\n",
       "  '2020-10-06'),\n",
       " 27: ('https://www.nytimes.com/2020/09/24/technology/apple-google-coalition-epic-match-spotify.html',\n",
       "  '2020-09-24'),\n",
       " 28: ('https://www.nytimes.com/2020/09/28/technology/google-play-store-30-percent.html',\n",
       "  '2020-09-28'),\n",
       " 29: ('https://www.nytimes.com/2020/09/17/technology/personaltech/new-apple-watch-blood-oxygen-level-review.html',\n",
       "  '2020-09-17'),\n",
       " 30: ('https://www.nytimes.com/2020/09/16/business/dealbook/jpmorgan-office-covid.html',\n",
       "  '2020-09-16'),\n",
       " 31: ('https://www.nytimes.com/2020/09/01/technology/apple-google-virus-alert-technology.html',\n",
       "  '2020-09-01'),\n",
       " 32: ('https://www.nytimes.com/2020/09/04/business/stock-market-nasdaq-apple.html',\n",
       "  '2020-09-04'),\n",
       " 33: ('https://www.nytimes.com/2020/08/20/business/dealbook/apple-two-trillion-market-value.html',\n",
       "  '2020-08-20'),\n",
       " 34: ('https://www.nytimes.com/2020/09/03/business/stock-market-shares-covid.html',\n",
       "  '2020-09-03'),\n",
       " 35: ('https://www.nytimes.com/2020/08/25/technology/fortnite-creator-tim-sweeney-apple-google.html',\n",
       "  '2020-08-25'),\n",
       " 36: ('https://www.nytimes.com/2020/08/19/technology/apple-2-trillion.html',\n",
       "  '2020-08-19'),\n",
       " 37: ('https://www.nytimes.com/2020/08/14/technology/apple-app-store-epic-games-fortnite.html',\n",
       "  '2020-08-14'),\n",
       " 38: ('https://www.nytimes.com/2020/08/26/technology/personaltech/tiktok-data-apps.html',\n",
       "  '2020-08-26'),\n",
       " 39: ('https://www.nytimes.com/2020/08/13/technology/apple-fortnite-ban.html',\n",
       "  '2020-08-13'),\n",
       " 40: ('https://www.nytimes.com/2020/08/04/technology/apple-schiller-marketing-executive-departure.html',\n",
       "  '2020-08-04'),\n",
       " 41: ('https://www.nytimes.com/2020/08/19/business/media/advertising-tech-amazon-apple-facebook-google.html',\n",
       "  '2020-08-19'),\n",
       " 42: ('https://www.nytimes.com/2020/08/19/technology/big-tech-business-domination.html',\n",
       "  '2020-08-19'),\n",
       " 43: ('https://www.nytimes.com/2020/08/18/business/stock-market-record.html',\n",
       "  '2020-08-18'),\n",
       " 44: ('https://www.nytimes.com/2020/08/18/business/dealbook/tiktok-huawei-china.html',\n",
       "  '2020-08-18'),\n",
       " 45: ('https://www.nytimes.com/2020/08/07/technology/facebook-apple-gaming-app-store.html',\n",
       "  '2020-08-07'),\n",
       " 46: ('https://www.nytimes.com/2020/07/28/technology/apple-app-store-airbnb-classpass.html',\n",
       "  '2020-07-28'),\n",
       " 47: ('https://www.nytimes.com/2020/08/14/business/dealbook/fortnite-apple-google-epic.html',\n",
       "  '2020-08-14'),\n",
       " 48: ('https://www.nytimes.com/2020/08/10/technology/big-tech-biden-campaign.html',\n",
       "  '2020-08-10'),\n",
       " 49: ('https://www.nytimes.com/2020/07/28/technology/amazon-apple-facebook-google-antitrust-hearing.html',\n",
       "  '2020-07-28'),\n",
       " 50: ('https://www.nytimes.com/2020/08/08/business/berkshire-hathaway-earnings-warren-buffett.html',\n",
       "  '2020-08-08'),\n",
       " 51: ('https://www.nytimes.com/2020/07/15/business/apple-eu-ireland-tax.html',\n",
       "  '2020-07-15'),\n",
       " 52: ('https://www.nytimes.com/2020/07/31/technology/blocking-the-tech-giants.html',\n",
       "  '2020-07-31'),\n",
       " 53: ('https://www.nytimes.com/2020/07/31/business/dealbook/tech-earnings-economy.html',\n",
       "  '2020-07-31'),\n",
       " 54: ('https://www.nytimes.com/2020/07/30/technology/tech-company-earnings-amazon-apple-facebook-google.html',\n",
       "  '2020-07-30'),\n",
       " 55: ('https://www.nytimes.com/2020/07/30/technology/big-tech-ceos.html',\n",
       "  '2020-07-30'),\n",
       " 56: ('https://www.nytimes.com/2020/07/30/technology/europe-new-phase-tech-amazon-apple-facebook-google.html',\n",
       "  '2020-07-30'),\n",
       " 57: ('https://www.nytimes.com/2020/07/30/business/dealbook/tech-hearing-highlights.html',\n",
       "  '2020-07-30'),\n",
       " 58: ('https://www.nytimes.com/2020/07/29/technology/big-tech-hearing-apple-amazon-facebook-google.html',\n",
       "  '2020-07-29'),\n",
       " 59: ('https://www.nytimes.com/2020/06/29/technology/new-york-times-apple-news-app.html',\n",
       "  '2020-06-29'),\n",
       " 60: ('https://www.nytimes.com/2020/07/29/technology/personaltech/big-tech-power-how-to-fight.html',\n",
       "  '2020-07-29'),\n",
       " 61: ('https://www.nytimes.com/2020/07/29/technology/tech-ceos-congress-what-to-know.html',\n",
       "  '2020-07-29'),\n",
       " 62: ('https://www.nytimes.com/2020/07/29/business/dealbook/tech-congress-hearing-questions.html',\n",
       "  '2020-07-29'),\n",
       " 63: ('https://www.nytimes.com/2020/07/28/business/dealbook/tech-ceos-congress.html',\n",
       "  '2020-07-28'),\n",
       " 64: ('https://www.nytimes.com/2020/06/19/technology/apple-intel-breakup.html',\n",
       "  '2020-06-19'),\n",
       " 65: ('https://www.nytimes.com/2020/06/18/technology/apple-ios-facebook-gaming-app.html',\n",
       "  '2020-06-18'),\n",
       " 66: ('https://www.nytimes.com/2020/06/22/technology/apple-macs-intel-chips.html',\n",
       "  '2020-06-22'),\n",
       " 67: ('https://www.nytimes.com/2020/07/22/technology/personaltech/maps-apps-coronavirus-pandemic.html',\n",
       "  '2020-07-22'),\n",
       " 68: ('https://www.nytimes.com/2020/07/21/business/china-us-trade-banned.html',\n",
       "  '2020-07-21'),\n",
       " 69: ('https://www.nytimes.com/2020/07/20/technology/google-covid-tracker-app.html',\n",
       "  '2020-07-20'),\n",
       " 70: ('https://www.nytimes.com/2020/06/16/business/apple-app-store-european-union-antitrust.html',\n",
       "  '2020-06-16'),\n",
       " 71: ('https://www.nytimes.com/2012/07/26/technology/placing-a-dollar-value-on-apples-mountain-lion-software-state-of-the-art.html',\n",
       "  '2012-07-26'),\n",
       " 72: ('https://www.nytimes.com/2008/07/26/business/26nocera.html',\n",
       "  '2008-07-26'),\n",
       " 73: ('https://www.nytimes.com/2008/07/24/technology/personaltech/24pogue-email.html',\n",
       "  '2008-07-24'),\n",
       " 74: ('https://www.nytimes.com/2015/02/20/technology/auto-team-is-forming-at-apple.html',\n",
       "  '2015-02-20'),\n",
       " 75: ('https://www.nytimes.com/2013/05/06/technology/apples-rivals-see-an-edge-in-using-wireless-accessories.html',\n",
       "  '2013-05-06'),\n",
       " 76: ('https://www.nytimes.com/2020/07/15/business/dealbook/bank-earnings-economy.html',\n",
       "  '2020-07-15'),\n",
       " 77: ('https://www.nytimes.com/2012/02/27/technology/apple-riding-high-but-for-how-long.html',\n",
       "  '2012-02-27'),\n",
       " 78: ('https://www.nytimes.com/2011/08/10/business/apple-may-be-underpriced-breakingviews.html',\n",
       "  '2011-08-10'),\n",
       " 79: ('https://www.nytimes.com/2010/10/18/technology/18apple.html',\n",
       "  '2010-10-18'),\n",
       " 80: ('https://www.nytimes.com/2016/04/06/technology/personaltech/clearing-space-on-the-apple-tv.html',\n",
       "  '2016-04-06'),\n",
       " 81: ('https://www.nytimes.com/2013/02/09/business/following-a-herd-of-bulls-on-apples-stock.html',\n",
       "  '2013-02-09'),\n",
       " 82: ('https://www.nytimes.com/2011/02/18/technology/18apple.html',\n",
       "  '2011-02-18'),\n",
       " 83: ('https://www.nytimes.com/2014/08/09/business/international/cashew-juice-the-apple-of-pepsis-eye.html',\n",
       "  '2014-08-09'),\n",
       " 84: ('https://www.nytimes.com/2010/09/06/business/economy/06views.html',\n",
       "  '2010-09-06'),\n",
       " 85: ('https://www.nytimes.com/2010/06/24/technology/24apple.html',\n",
       "  '2010-06-24'),\n",
       " 86: ('https://www.nytimes.com/2006/08/25/technology/25apple.html',\n",
       "  '2006-08-25'),\n",
       " 87: ('https://www.nytimes.com/2019/06/27/technology/jony-ive-apple.html',\n",
       "  '2019-06-27'),\n",
       " 88: ('https://www.nytimes.com/2006/06/30/technology/30apple.html',\n",
       "  '2006-06-30')}"
      ]
     },
     "metadata": {},
     "execution_count": 4
    }
   ],
   "source": [
    "url_dict"
   ]
  },
  {
   "cell_type": "code",
   "execution_count": 5,
   "metadata": {},
   "outputs": [
    {
     "output_type": "execute_result",
     "data": {
      "text/plain": [
       "            date     price  change  pct_change\n",
       "0     2020-12-31  132.6900     NaN         NaN\n",
       "1     2020-12-30  133.7200 -1.0300   -0.007703\n",
       "2     2020-12-29  134.8700 -1.1500   -0.008527\n",
       "3     2020-12-28  136.6900 -1.8200   -0.013315\n",
       "4     2020-12-24  131.9700  4.7200    0.035766\n",
       "...          ...       ...     ...         ...\n",
       "2512  2011-01-07   12.0043  0.2262    0.018843\n",
       "2513  2011-01-06   11.9189  0.0854    0.007165\n",
       "2514  2011-01-05   11.9286 -0.0097   -0.000813\n",
       "2515  2011-01-04   11.8318  0.0968    0.008181\n",
       "2516  2011-01-03   11.7704  0.0614    0.005216\n",
       "\n",
       "[2517 rows x 4 columns]"
      ],
      "text/html": "<div>\n<style scoped>\n    .dataframe tbody tr th:only-of-type {\n        vertical-align: middle;\n    }\n\n    .dataframe tbody tr th {\n        vertical-align: top;\n    }\n\n    .dataframe thead th {\n        text-align: right;\n    }\n</style>\n<table border=\"1\" class=\"dataframe\">\n  <thead>\n    <tr style=\"text-align: right;\">\n      <th></th>\n      <th>date</th>\n      <th>price</th>\n      <th>change</th>\n      <th>pct_change</th>\n    </tr>\n  </thead>\n  <tbody>\n    <tr>\n      <th>0</th>\n      <td>2020-12-31</td>\n      <td>132.6900</td>\n      <td>NaN</td>\n      <td>NaN</td>\n    </tr>\n    <tr>\n      <th>1</th>\n      <td>2020-12-30</td>\n      <td>133.7200</td>\n      <td>-1.0300</td>\n      <td>-0.007703</td>\n    </tr>\n    <tr>\n      <th>2</th>\n      <td>2020-12-29</td>\n      <td>134.8700</td>\n      <td>-1.1500</td>\n      <td>-0.008527</td>\n    </tr>\n    <tr>\n      <th>3</th>\n      <td>2020-12-28</td>\n      <td>136.6900</td>\n      <td>-1.8200</td>\n      <td>-0.013315</td>\n    </tr>\n    <tr>\n      <th>4</th>\n      <td>2020-12-24</td>\n      <td>131.9700</td>\n      <td>4.7200</td>\n      <td>0.035766</td>\n    </tr>\n    <tr>\n      <th>...</th>\n      <td>...</td>\n      <td>...</td>\n      <td>...</td>\n      <td>...</td>\n    </tr>\n    <tr>\n      <th>2512</th>\n      <td>2011-01-07</td>\n      <td>12.0043</td>\n      <td>0.2262</td>\n      <td>0.018843</td>\n    </tr>\n    <tr>\n      <th>2513</th>\n      <td>2011-01-06</td>\n      <td>11.9189</td>\n      <td>0.0854</td>\n      <td>0.007165</td>\n    </tr>\n    <tr>\n      <th>2514</th>\n      <td>2011-01-05</td>\n      <td>11.9286</td>\n      <td>-0.0097</td>\n      <td>-0.000813</td>\n    </tr>\n    <tr>\n      <th>2515</th>\n      <td>2011-01-04</td>\n      <td>11.8318</td>\n      <td>0.0968</td>\n      <td>0.008181</td>\n    </tr>\n    <tr>\n      <th>2516</th>\n      <td>2011-01-03</td>\n      <td>11.7704</td>\n      <td>0.0614</td>\n      <td>0.005216</td>\n    </tr>\n  </tbody>\n</table>\n<p>2517 rows × 4 columns</p>\n</div>"
     },
     "metadata": {},
     "execution_count": 5
    }
   ],
   "source": [
    "# use the closing prices of the stock as the daily prices and the differences in each day as the percentage rise or fall\n",
    "# the difference of stock prices between date1 and date2 will be stored in the row of date1 for ease of comparison\n",
    "\n",
    "def rem_dol(price):\n",
    "    price = str(price)[2:]\n",
    "    return float(price)\n",
    "\n",
    "def chng_date(date):\n",
    "    date = date.split('/')\n",
    "\n",
    "    return date[2] + '-' + date[0] + '-' + date[1]\n",
    "\n",
    "prices = stocks[' Close/Last'].apply(rem_dol)\n",
    "dates = stocks['Date'].apply(chng_date)\n",
    "stocks = stocks.assign(**{'price':prices})\n",
    "difference = stocks.price.astype('float64').diff() * -1.0\n",
    "pct_change = difference / prices\n",
    "\n",
    "stock = pd.DataFrame({'date': dates, 'price':prices, 'change': difference, 'pct_change': pct_change})\n",
    "stock"
   ]
  },
  {
   "cell_type": "code",
   "execution_count": 6,
   "metadata": {},
   "outputs": [],
   "source": [
    "tokenized = tokenizer.tokenize_sentence(url_dict)"
   ]
  },
  {
   "cell_type": "code",
   "execution_count": 7,
   "metadata": {},
   "outputs": [],
   "source": [
    "merged = tokenizer.merged"
   ]
  },
  {
   "cell_type": "code",
   "execution_count": 8,
   "metadata": {},
   "outputs": [],
   "source": [
    "tokenized_word = tokenizer.tokenizer_myself(tokenized)"
   ]
  },
  {
   "cell_type": "code",
   "execution_count": 9,
   "metadata": {},
   "outputs": [],
   "source": [
    "sentence_vals = tokenizer.sentence_calculator(tokenized_word)"
   ]
  },
  {
   "cell_type": "code",
   "execution_count": 10,
   "metadata": {},
   "outputs": [],
   "source": [
    "article_vals = tokenizer.calculate_vals(sentence_vals)"
   ]
  },
  {
   "cell_type": "code",
   "execution_count": 11,
   "metadata": {},
   "outputs": [],
   "source": [
    "# Delete articles (given index from tokenize_sentence function)\n",
    "deletable_index = tokenizer.get_deletable_index()\n",
    "for index in deletable_index:\n",
    "    del url_dict[index]"
   ]
  },
  {
   "cell_type": "code",
   "execution_count": 12,
   "metadata": {},
   "outputs": [],
   "source": [
    "# Add article scores to dataframe"
   ]
  },
  {
   "cell_type": "code",
   "execution_count": 13,
   "metadata": {},
   "outputs": [
    {
     "output_type": "execute_result",
     "data": {
      "text/plain": [
       "            date     price  change  pct_change  score\n",
       "0     2020-12-31  132.6900     NaN         NaN    NaN\n",
       "1     2020-12-30  133.7200 -1.0300   -0.007703    NaN\n",
       "2     2020-12-29  134.8700 -1.1500   -0.008527    NaN\n",
       "3     2020-12-28  136.6900 -1.8200   -0.013315    NaN\n",
       "4     2020-12-24  131.9700  4.7200    0.035766    NaN\n",
       "...          ...       ...     ...         ...    ...\n",
       "2512  2011-01-07   12.0043  0.2262    0.018843    NaN\n",
       "2513  2011-01-06   11.9189  0.0854    0.007165    NaN\n",
       "2514  2011-01-05   11.9286 -0.0097   -0.000813    NaN\n",
       "2515  2011-01-04   11.8318  0.0968    0.008181    NaN\n",
       "2516  2011-01-03   11.7704  0.0614    0.005216    NaN\n",
       "\n",
       "[2517 rows x 5 columns]"
      ],
      "text/html": "<div>\n<style scoped>\n    .dataframe tbody tr th:only-of-type {\n        vertical-align: middle;\n    }\n\n    .dataframe tbody tr th {\n        vertical-align: top;\n    }\n\n    .dataframe thead th {\n        text-align: right;\n    }\n</style>\n<table border=\"1\" class=\"dataframe\">\n  <thead>\n    <tr style=\"text-align: right;\">\n      <th></th>\n      <th>date</th>\n      <th>price</th>\n      <th>change</th>\n      <th>pct_change</th>\n      <th>score</th>\n    </tr>\n  </thead>\n  <tbody>\n    <tr>\n      <th>0</th>\n      <td>2020-12-31</td>\n      <td>132.6900</td>\n      <td>NaN</td>\n      <td>NaN</td>\n      <td>NaN</td>\n    </tr>\n    <tr>\n      <th>1</th>\n      <td>2020-12-30</td>\n      <td>133.7200</td>\n      <td>-1.0300</td>\n      <td>-0.007703</td>\n      <td>NaN</td>\n    </tr>\n    <tr>\n      <th>2</th>\n      <td>2020-12-29</td>\n      <td>134.8700</td>\n      <td>-1.1500</td>\n      <td>-0.008527</td>\n      <td>NaN</td>\n    </tr>\n    <tr>\n      <th>3</th>\n      <td>2020-12-28</td>\n      <td>136.6900</td>\n      <td>-1.8200</td>\n      <td>-0.013315</td>\n      <td>NaN</td>\n    </tr>\n    <tr>\n      <th>4</th>\n      <td>2020-12-24</td>\n      <td>131.9700</td>\n      <td>4.7200</td>\n      <td>0.035766</td>\n      <td>NaN</td>\n    </tr>\n    <tr>\n      <th>...</th>\n      <td>...</td>\n      <td>...</td>\n      <td>...</td>\n      <td>...</td>\n      <td>...</td>\n    </tr>\n    <tr>\n      <th>2512</th>\n      <td>2011-01-07</td>\n      <td>12.0043</td>\n      <td>0.2262</td>\n      <td>0.018843</td>\n      <td>NaN</td>\n    </tr>\n    <tr>\n      <th>2513</th>\n      <td>2011-01-06</td>\n      <td>11.9189</td>\n      <td>0.0854</td>\n      <td>0.007165</td>\n      <td>NaN</td>\n    </tr>\n    <tr>\n      <th>2514</th>\n      <td>2011-01-05</td>\n      <td>11.9286</td>\n      <td>-0.0097</td>\n      <td>-0.000813</td>\n      <td>NaN</td>\n    </tr>\n    <tr>\n      <th>2515</th>\n      <td>2011-01-04</td>\n      <td>11.8318</td>\n      <td>0.0968</td>\n      <td>0.008181</td>\n      <td>NaN</td>\n    </tr>\n    <tr>\n      <th>2516</th>\n      <td>2011-01-03</td>\n      <td>11.7704</td>\n      <td>0.0614</td>\n      <td>0.005216</td>\n      <td>NaN</td>\n    </tr>\n  </tbody>\n</table>\n<p>2517 rows × 5 columns</p>\n</div>"
     },
     "metadata": {},
     "execution_count": 13
    }
   ],
   "source": [
    "stock['score'] = np.nan\n",
    "stock"
   ]
  },
  {
   "cell_type": "code",
   "execution_count": 14,
   "metadata": {},
   "outputs": [
    {
     "output_type": "stream",
     "name": "stdout",
     "text": [
      "2020-12-16\n2020-12-13\n2020-12-23\n2020-12-17\n2020-12-17\n2020-12-01\n2020-12-15\n2020-12-14\n2020-12-09\n2020-11-18\n2020-11-10\n2020-11-09\n2020-11-10\n2020-10-27\n2020-10-25\n2020-10-29\n2020-10-20\n2020-10-22\n2020-10-21\n2020-10-09\n2020-10-06\n2020-10-13\n2020-10-12\n2020-10-08\n2020-09-28\n2020-10-06\n2020-10-06\n2020-09-24\n2020-09-28\n2020-09-17\n2020-09-16\n2020-09-01\n2020-09-04\n2020-08-20\n2020-09-03\n2020-08-25\n2020-08-19\n2020-08-14\n2020-08-26\n2020-08-13\n2020-08-04\n2020-08-19\n2020-08-19\n2020-08-18\n2020-08-18\n2020-08-07\n2020-07-28\n2020-08-14\n2020-08-10\n2020-07-28\n2020-08-08\n2020-07-15\n2020-07-31\n2020-07-31\n2020-07-30\n2020-07-30\n2020-07-30\n2020-07-30\n2020-07-29\n2020-06-29\n2020-07-29\n2020-07-29\n2020-07-29\n2020-07-28\n2020-06-19\n2020-06-18\n2020-06-22\n2020-07-22\n2020-07-21\n2020-07-20\n2020-06-16\n2012-07-26\n2008-07-26\n2008-07-24\n2015-02-20\n2013-05-06\n2020-07-15\n2012-02-27\n2011-08-10\n2010-10-18\n2016-04-06\n2013-02-09\n2011-02-18\n2014-08-09\n2010-09-06\n2010-06-24\n2006-08-25\n2019-06-27\n2006-06-30\n"
     ]
    }
   ],
   "source": [
    "for element in url_dict:\n",
    "    print(url_dict[element][1])"
   ]
  },
  {
   "cell_type": "code",
   "execution_count": 15,
   "metadata": {},
   "outputs": [
    {
     "output_type": "execute_result",
     "data": {
      "text/plain": [
       "          date    price  change  pct_change     score\n",
       "0   2020-12-31  132.690     NaN         NaN       NaN\n",
       "1   2020-12-30  133.720  -1.030   -0.007703       NaN\n",
       "2   2020-12-29  134.870  -1.150   -0.008527       NaN\n",
       "3   2020-12-28  136.690  -1.820   -0.013315       NaN\n",
       "4   2020-12-24  131.970   4.720    0.035766       NaN\n",
       "5   2020-12-23  130.960   1.010    0.007712  0.241962\n",
       "6   2020-12-22  131.880  -0.920   -0.006976       NaN\n",
       "7   2020-12-21  128.230   3.650    0.028464       NaN\n",
       "8   2020-12-18  126.655   1.575    0.012435       NaN\n",
       "9   2020-12-17  128.700  -2.045   -0.015890 -0.192564\n",
       "10  2020-12-16  127.810   0.890    0.006963  2.393963\n",
       "11  2020-12-15  127.880  -0.070   -0.000547 -2.164879\n",
       "12  2020-12-14  121.780   6.100    0.050090 -1.306130\n",
       "13  2020-12-11  122.410  -0.630   -0.005147       NaN\n",
       "14  2020-12-10  123.240  -0.830   -0.006735       NaN\n",
       "15  2020-12-09  121.780   1.460    0.011989 -2.708086\n",
       "16  2020-12-08  124.380  -2.600   -0.020904       NaN\n",
       "17  2020-12-07  123.750   0.630    0.005091       NaN\n",
       "18  2020-12-04  122.250   1.500    0.012270       NaN\n",
       "19  2020-12-03  122.940  -0.690   -0.005612       NaN\n",
       "20  2020-12-02  123.080  -0.140   -0.001137       NaN\n",
       "21  2020-12-01  122.720   0.360    0.002934 -0.985977\n",
       "22  2020-11-30  119.050   3.670    0.030827       NaN\n",
       "23  2020-11-27  116.590   2.460    0.021100       NaN\n",
       "24  2020-11-25  116.030   0.560    0.004826       NaN\n",
       "25  2020-11-24  115.170   0.860    0.007467       NaN\n",
       "26  2020-11-23  113.850   1.320    0.011594       NaN\n",
       "27  2020-11-20  117.340  -3.490   -0.029743       NaN\n",
       "28  2020-11-19  118.640  -1.300   -0.010958       NaN\n",
       "29  2020-11-18  118.030   0.610    0.005168 -1.649502"
      ],
      "text/html": "<div>\n<style scoped>\n    .dataframe tbody tr th:only-of-type {\n        vertical-align: middle;\n    }\n\n    .dataframe tbody tr th {\n        vertical-align: top;\n    }\n\n    .dataframe thead th {\n        text-align: right;\n    }\n</style>\n<table border=\"1\" class=\"dataframe\">\n  <thead>\n    <tr style=\"text-align: right;\">\n      <th></th>\n      <th>date</th>\n      <th>price</th>\n      <th>change</th>\n      <th>pct_change</th>\n      <th>score</th>\n    </tr>\n  </thead>\n  <tbody>\n    <tr>\n      <th>0</th>\n      <td>2020-12-31</td>\n      <td>132.690</td>\n      <td>NaN</td>\n      <td>NaN</td>\n      <td>NaN</td>\n    </tr>\n    <tr>\n      <th>1</th>\n      <td>2020-12-30</td>\n      <td>133.720</td>\n      <td>-1.030</td>\n      <td>-0.007703</td>\n      <td>NaN</td>\n    </tr>\n    <tr>\n      <th>2</th>\n      <td>2020-12-29</td>\n      <td>134.870</td>\n      <td>-1.150</td>\n      <td>-0.008527</td>\n      <td>NaN</td>\n    </tr>\n    <tr>\n      <th>3</th>\n      <td>2020-12-28</td>\n      <td>136.690</td>\n      <td>-1.820</td>\n      <td>-0.013315</td>\n      <td>NaN</td>\n    </tr>\n    <tr>\n      <th>4</th>\n      <td>2020-12-24</td>\n      <td>131.970</td>\n      <td>4.720</td>\n      <td>0.035766</td>\n      <td>NaN</td>\n    </tr>\n    <tr>\n      <th>5</th>\n      <td>2020-12-23</td>\n      <td>130.960</td>\n      <td>1.010</td>\n      <td>0.007712</td>\n      <td>0.241962</td>\n    </tr>\n    <tr>\n      <th>6</th>\n      <td>2020-12-22</td>\n      <td>131.880</td>\n      <td>-0.920</td>\n      <td>-0.006976</td>\n      <td>NaN</td>\n    </tr>\n    <tr>\n      <th>7</th>\n      <td>2020-12-21</td>\n      <td>128.230</td>\n      <td>3.650</td>\n      <td>0.028464</td>\n      <td>NaN</td>\n    </tr>\n    <tr>\n      <th>8</th>\n      <td>2020-12-18</td>\n      <td>126.655</td>\n      <td>1.575</td>\n      <td>0.012435</td>\n      <td>NaN</td>\n    </tr>\n    <tr>\n      <th>9</th>\n      <td>2020-12-17</td>\n      <td>128.700</td>\n      <td>-2.045</td>\n      <td>-0.015890</td>\n      <td>-0.192564</td>\n    </tr>\n    <tr>\n      <th>10</th>\n      <td>2020-12-16</td>\n      <td>127.810</td>\n      <td>0.890</td>\n      <td>0.006963</td>\n      <td>2.393963</td>\n    </tr>\n    <tr>\n      <th>11</th>\n      <td>2020-12-15</td>\n      <td>127.880</td>\n      <td>-0.070</td>\n      <td>-0.000547</td>\n      <td>-2.164879</td>\n    </tr>\n    <tr>\n      <th>12</th>\n      <td>2020-12-14</td>\n      <td>121.780</td>\n      <td>6.100</td>\n      <td>0.050090</td>\n      <td>-1.306130</td>\n    </tr>\n    <tr>\n      <th>13</th>\n      <td>2020-12-11</td>\n      <td>122.410</td>\n      <td>-0.630</td>\n      <td>-0.005147</td>\n      <td>NaN</td>\n    </tr>\n    <tr>\n      <th>14</th>\n      <td>2020-12-10</td>\n      <td>123.240</td>\n      <td>-0.830</td>\n      <td>-0.006735</td>\n      <td>NaN</td>\n    </tr>\n    <tr>\n      <th>15</th>\n      <td>2020-12-09</td>\n      <td>121.780</td>\n      <td>1.460</td>\n      <td>0.011989</td>\n      <td>-2.708086</td>\n    </tr>\n    <tr>\n      <th>16</th>\n      <td>2020-12-08</td>\n      <td>124.380</td>\n      <td>-2.600</td>\n      <td>-0.020904</td>\n      <td>NaN</td>\n    </tr>\n    <tr>\n      <th>17</th>\n      <td>2020-12-07</td>\n      <td>123.750</td>\n      <td>0.630</td>\n      <td>0.005091</td>\n      <td>NaN</td>\n    </tr>\n    <tr>\n      <th>18</th>\n      <td>2020-12-04</td>\n      <td>122.250</td>\n      <td>1.500</td>\n      <td>0.012270</td>\n      <td>NaN</td>\n    </tr>\n    <tr>\n      <th>19</th>\n      <td>2020-12-03</td>\n      <td>122.940</td>\n      <td>-0.690</td>\n      <td>-0.005612</td>\n      <td>NaN</td>\n    </tr>\n    <tr>\n      <th>20</th>\n      <td>2020-12-02</td>\n      <td>123.080</td>\n      <td>-0.140</td>\n      <td>-0.001137</td>\n      <td>NaN</td>\n    </tr>\n    <tr>\n      <th>21</th>\n      <td>2020-12-01</td>\n      <td>122.720</td>\n      <td>0.360</td>\n      <td>0.002934</td>\n      <td>-0.985977</td>\n    </tr>\n    <tr>\n      <th>22</th>\n      <td>2020-11-30</td>\n      <td>119.050</td>\n      <td>3.670</td>\n      <td>0.030827</td>\n      <td>NaN</td>\n    </tr>\n    <tr>\n      <th>23</th>\n      <td>2020-11-27</td>\n      <td>116.590</td>\n      <td>2.460</td>\n      <td>0.021100</td>\n      <td>NaN</td>\n    </tr>\n    <tr>\n      <th>24</th>\n      <td>2020-11-25</td>\n      <td>116.030</td>\n      <td>0.560</td>\n      <td>0.004826</td>\n      <td>NaN</td>\n    </tr>\n    <tr>\n      <th>25</th>\n      <td>2020-11-24</td>\n      <td>115.170</td>\n      <td>0.860</td>\n      <td>0.007467</td>\n      <td>NaN</td>\n    </tr>\n    <tr>\n      <th>26</th>\n      <td>2020-11-23</td>\n      <td>113.850</td>\n      <td>1.320</td>\n      <td>0.011594</td>\n      <td>NaN</td>\n    </tr>\n    <tr>\n      <th>27</th>\n      <td>2020-11-20</td>\n      <td>117.340</td>\n      <td>-3.490</td>\n      <td>-0.029743</td>\n      <td>NaN</td>\n    </tr>\n    <tr>\n      <th>28</th>\n      <td>2020-11-19</td>\n      <td>118.640</td>\n      <td>-1.300</td>\n      <td>-0.010958</td>\n      <td>NaN</td>\n    </tr>\n    <tr>\n      <th>29</th>\n      <td>2020-11-18</td>\n      <td>118.030</td>\n      <td>0.610</td>\n      <td>0.005168</td>\n      <td>-1.649502</td>\n    </tr>\n  </tbody>\n</table>\n</div>"
     },
     "metadata": {},
     "execution_count": 15
    }
   ],
   "source": [
    "# Using article_val's elements (ordered by date given in url_dict, since tokenizer uses for loop with iteration)\n",
    "remove_index = []\n",
    "for index in url_dict:\n",
    "    try:\n",
    "        stock_index = stock[stock['date'] == url_dict[index][1]].index[0]\n",
    "        stock.loc[stock_index, 'score'] = article_vals[index]\n",
    "    except IndexError:\n",
    "        remove_index.append(index)\n",
    "\n",
    "stock[0:30]"
   ]
  },
  {
   "cell_type": "code",
   "execution_count": 20,
   "metadata": {},
   "outputs": [],
   "source": [
    "# Create ML using Linear Regression\n",
    "from sklearn.model_selection import train_test_split # Data Splitting\n",
    "from sklearn.linear_model import LinearRegression # LinearRegression Model\n",
    "from sklearn.model_selection import train_test_split # Data Splitting\n"
   ]
  },
  {
   "cell_type": "code",
   "execution_count": 17,
   "metadata": {},
   "outputs": [],
   "source": [
    "# Clean data\n",
    "stock = stock.dropna()"
   ]
  },
  {
   "cell_type": "code",
   "execution_count": 18,
   "metadata": {},
   "outputs": [
    {
     "output_type": "execute_result",
     "data": {
      "text/plain": [
       "          date     price   change  pct_change      score\n",
       "5     20201223  130.9600   1.0100    0.007712   0.241962\n",
       "9     20201217  128.7000  -2.0450   -0.015890  -0.192564\n",
       "10    20201216  127.8100   0.8900    0.006963   2.393963\n",
       "11    20201215  127.8800  -0.0700   -0.000547  -2.164879\n",
       "12    20201214  121.7800   6.1000    0.050090  -1.306130\n",
       "15    20201209  121.7800   1.4600    0.011989  -2.708086\n",
       "21    20201201  122.7200   0.3600    0.002934  -0.985977\n",
       "29    20201118  118.0300   0.6100    0.005168  -1.649502\n",
       "35    20201110  115.9700   3.5200    0.030353  -0.511076\n",
       "36    20201109  116.3200  -0.3500   -0.003009  -0.362694\n",
       "43    20201029  115.3200  -6.4600   -0.056018   0.080217\n",
       "45    20201027  116.6000  -5.4000   -0.046312  -0.941497\n",
       "48    20201022  115.7500  -0.7100   -0.006134   1.594735\n",
       "49    20201021  116.8700  -1.1200   -0.009583  -0.292970\n",
       "50    20201020  117.5100  -0.6400   -0.005446   0.440522\n",
       "55    20201013  121.1000   0.0900    0.000743  -1.737807\n",
       "56    20201012  124.4000  -3.3000   -0.026527  -2.488767\n",
       "57    20201009  116.9700   7.4300    0.063521   3.136995\n",
       "58    20201008  114.9700   2.0000    0.017396  -2.064702\n",
       "60    20201006  113.1600   1.9200    0.016967   0.524108\n",
       "66    20200928  114.9600  -0.8700   -0.007568   3.220150\n",
       "68    20200924  108.2200   4.0600    0.037516   0.824573\n",
       "73    20200917  110.3400  -3.5000   -0.031720  -2.894153\n",
       "74    20200916  112.1300  -1.7900   -0.015964  -1.062534\n",
       "81    20200904  120.9600  -8.1400   -0.067295 -14.241448\n",
       "82    20200903  120.8800   0.0800    0.000662  -2.653534\n",
       "84    20200901  134.1800  -2.7800   -0.020718   0.942256\n",
       "88    20200826  126.5225  -1.5125   -0.011954  -1.485409\n",
       "89    20200825  124.8250   1.6975    0.013599   1.878707\n",
       "92    20200820  118.2750   6.0950    0.051532  -1.117829\n",
       "93    20200819  115.7075   2.5675    0.022190   0.070264\n",
       "94    20200818  115.5625   0.1450    0.001255  -0.011809\n",
       "96    20200814  114.9075  -0.3000   -0.002611  -0.175782\n",
       "97    20200813  115.0100  -0.1025   -0.000891  -0.168934\n",
       "100   20200810  112.7275  -3.3525   -0.029740  -1.982056\n",
       "101   20200807  111.1125   1.6150    0.014535  -2.956955\n",
       "104   20200804  109.6650   0.3975    0.003625  -1.751993\n",
       "106   20200731  106.2600   2.6775    0.025198  -4.316919\n",
       "107   20200730   96.1900  10.0700    0.104689  -0.997336\n",
       "108   20200729   95.0400   1.1500    0.012100  -0.449695\n",
       "109   20200728   93.2525   1.7875    0.019168   1.059539\n",
       "113   20200722   97.2725  -4.4275   -0.045516  -1.800092\n",
       "114   20200721   97.0000   0.2725    0.002809  -0.721797\n",
       "115   20200720   98.3575  -1.3575   -0.013802   1.280024\n",
       "118   20200715   97.7250  -1.2025   -0.012305  -0.454004\n",
       "129   20200629   90.4450   0.7550    0.008348   0.253805\n",
       "134   20200622   89.7175   1.9150    0.021345  -0.229642\n",
       "135   20200619   87.4300   2.2875    0.026164   2.448464\n",
       "136   20200618   87.9325  -0.5025   -0.005715   0.742249\n",
       "138   20200616   88.0200  -0.1225   -0.001392  -2.666533\n",
       "382   20190627   49.9350  -0.4550   -0.009112   0.597722\n",
       "1194  20160406   27.7400  -0.6050   -0.021810  -1.817682\n",
       "1477  20150220   32.3738   0.8762    0.027065   0.442261\n",
       "1929  20130506   16.4539  -0.0733   -0.004455  -1.666435\n",
       "2122  20120726   20.5314   0.3672    0.017885   1.633657\n",
       "2227  20120227   18.7772   0.3446    0.018352  -0.396143\n",
       "2364  20110810   12.9889   0.3575    0.027524   1.312540\n",
       "2483  20110218   12.5200  -0.4268   -0.034089   1.724537"
      ],
      "text/html": "<div>\n<style scoped>\n    .dataframe tbody tr th:only-of-type {\n        vertical-align: middle;\n    }\n\n    .dataframe tbody tr th {\n        vertical-align: top;\n    }\n\n    .dataframe thead th {\n        text-align: right;\n    }\n</style>\n<table border=\"1\" class=\"dataframe\">\n  <thead>\n    <tr style=\"text-align: right;\">\n      <th></th>\n      <th>date</th>\n      <th>price</th>\n      <th>change</th>\n      <th>pct_change</th>\n      <th>score</th>\n    </tr>\n  </thead>\n  <tbody>\n    <tr>\n      <th>5</th>\n      <td>20201223</td>\n      <td>130.9600</td>\n      <td>1.0100</td>\n      <td>0.007712</td>\n      <td>0.241962</td>\n    </tr>\n    <tr>\n      <th>9</th>\n      <td>20201217</td>\n      <td>128.7000</td>\n      <td>-2.0450</td>\n      <td>-0.015890</td>\n      <td>-0.192564</td>\n    </tr>\n    <tr>\n      <th>10</th>\n      <td>20201216</td>\n      <td>127.8100</td>\n      <td>0.8900</td>\n      <td>0.006963</td>\n      <td>2.393963</td>\n    </tr>\n    <tr>\n      <th>11</th>\n      <td>20201215</td>\n      <td>127.8800</td>\n      <td>-0.0700</td>\n      <td>-0.000547</td>\n      <td>-2.164879</td>\n    </tr>\n    <tr>\n      <th>12</th>\n      <td>20201214</td>\n      <td>121.7800</td>\n      <td>6.1000</td>\n      <td>0.050090</td>\n      <td>-1.306130</td>\n    </tr>\n    <tr>\n      <th>15</th>\n      <td>20201209</td>\n      <td>121.7800</td>\n      <td>1.4600</td>\n      <td>0.011989</td>\n      <td>-2.708086</td>\n    </tr>\n    <tr>\n      <th>21</th>\n      <td>20201201</td>\n      <td>122.7200</td>\n      <td>0.3600</td>\n      <td>0.002934</td>\n      <td>-0.985977</td>\n    </tr>\n    <tr>\n      <th>29</th>\n      <td>20201118</td>\n      <td>118.0300</td>\n      <td>0.6100</td>\n      <td>0.005168</td>\n      <td>-1.649502</td>\n    </tr>\n    <tr>\n      <th>35</th>\n      <td>20201110</td>\n      <td>115.9700</td>\n      <td>3.5200</td>\n      <td>0.030353</td>\n      <td>-0.511076</td>\n    </tr>\n    <tr>\n      <th>36</th>\n      <td>20201109</td>\n      <td>116.3200</td>\n      <td>-0.3500</td>\n      <td>-0.003009</td>\n      <td>-0.362694</td>\n    </tr>\n    <tr>\n      <th>43</th>\n      <td>20201029</td>\n      <td>115.3200</td>\n      <td>-6.4600</td>\n      <td>-0.056018</td>\n      <td>0.080217</td>\n    </tr>\n    <tr>\n      <th>45</th>\n      <td>20201027</td>\n      <td>116.6000</td>\n      <td>-5.4000</td>\n      <td>-0.046312</td>\n      <td>-0.941497</td>\n    </tr>\n    <tr>\n      <th>48</th>\n      <td>20201022</td>\n      <td>115.7500</td>\n      <td>-0.7100</td>\n      <td>-0.006134</td>\n      <td>1.594735</td>\n    </tr>\n    <tr>\n      <th>49</th>\n      <td>20201021</td>\n      <td>116.8700</td>\n      <td>-1.1200</td>\n      <td>-0.009583</td>\n      <td>-0.292970</td>\n    </tr>\n    <tr>\n      <th>50</th>\n      <td>20201020</td>\n      <td>117.5100</td>\n      <td>-0.6400</td>\n      <td>-0.005446</td>\n      <td>0.440522</td>\n    </tr>\n    <tr>\n      <th>55</th>\n      <td>20201013</td>\n      <td>121.1000</td>\n      <td>0.0900</td>\n      <td>0.000743</td>\n      <td>-1.737807</td>\n    </tr>\n    <tr>\n      <th>56</th>\n      <td>20201012</td>\n      <td>124.4000</td>\n      <td>-3.3000</td>\n      <td>-0.026527</td>\n      <td>-2.488767</td>\n    </tr>\n    <tr>\n      <th>57</th>\n      <td>20201009</td>\n      <td>116.9700</td>\n      <td>7.4300</td>\n      <td>0.063521</td>\n      <td>3.136995</td>\n    </tr>\n    <tr>\n      <th>58</th>\n      <td>20201008</td>\n      <td>114.9700</td>\n      <td>2.0000</td>\n      <td>0.017396</td>\n      <td>-2.064702</td>\n    </tr>\n    <tr>\n      <th>60</th>\n      <td>20201006</td>\n      <td>113.1600</td>\n      <td>1.9200</td>\n      <td>0.016967</td>\n      <td>0.524108</td>\n    </tr>\n    <tr>\n      <th>66</th>\n      <td>20200928</td>\n      <td>114.9600</td>\n      <td>-0.8700</td>\n      <td>-0.007568</td>\n      <td>3.220150</td>\n    </tr>\n    <tr>\n      <th>68</th>\n      <td>20200924</td>\n      <td>108.2200</td>\n      <td>4.0600</td>\n      <td>0.037516</td>\n      <td>0.824573</td>\n    </tr>\n    <tr>\n      <th>73</th>\n      <td>20200917</td>\n      <td>110.3400</td>\n      <td>-3.5000</td>\n      <td>-0.031720</td>\n      <td>-2.894153</td>\n    </tr>\n    <tr>\n      <th>74</th>\n      <td>20200916</td>\n      <td>112.1300</td>\n      <td>-1.7900</td>\n      <td>-0.015964</td>\n      <td>-1.062534</td>\n    </tr>\n    <tr>\n      <th>81</th>\n      <td>20200904</td>\n      <td>120.9600</td>\n      <td>-8.1400</td>\n      <td>-0.067295</td>\n      <td>-14.241448</td>\n    </tr>\n    <tr>\n      <th>82</th>\n      <td>20200903</td>\n      <td>120.8800</td>\n      <td>0.0800</td>\n      <td>0.000662</td>\n      <td>-2.653534</td>\n    </tr>\n    <tr>\n      <th>84</th>\n      <td>20200901</td>\n      <td>134.1800</td>\n      <td>-2.7800</td>\n      <td>-0.020718</td>\n      <td>0.942256</td>\n    </tr>\n    <tr>\n      <th>88</th>\n      <td>20200826</td>\n      <td>126.5225</td>\n      <td>-1.5125</td>\n      <td>-0.011954</td>\n      <td>-1.485409</td>\n    </tr>\n    <tr>\n      <th>89</th>\n      <td>20200825</td>\n      <td>124.8250</td>\n      <td>1.6975</td>\n      <td>0.013599</td>\n      <td>1.878707</td>\n    </tr>\n    <tr>\n      <th>92</th>\n      <td>20200820</td>\n      <td>118.2750</td>\n      <td>6.0950</td>\n      <td>0.051532</td>\n      <td>-1.117829</td>\n    </tr>\n    <tr>\n      <th>93</th>\n      <td>20200819</td>\n      <td>115.7075</td>\n      <td>2.5675</td>\n      <td>0.022190</td>\n      <td>0.070264</td>\n    </tr>\n    <tr>\n      <th>94</th>\n      <td>20200818</td>\n      <td>115.5625</td>\n      <td>0.1450</td>\n      <td>0.001255</td>\n      <td>-0.011809</td>\n    </tr>\n    <tr>\n      <th>96</th>\n      <td>20200814</td>\n      <td>114.9075</td>\n      <td>-0.3000</td>\n      <td>-0.002611</td>\n      <td>-0.175782</td>\n    </tr>\n    <tr>\n      <th>97</th>\n      <td>20200813</td>\n      <td>115.0100</td>\n      <td>-0.1025</td>\n      <td>-0.000891</td>\n      <td>-0.168934</td>\n    </tr>\n    <tr>\n      <th>100</th>\n      <td>20200810</td>\n      <td>112.7275</td>\n      <td>-3.3525</td>\n      <td>-0.029740</td>\n      <td>-1.982056</td>\n    </tr>\n    <tr>\n      <th>101</th>\n      <td>20200807</td>\n      <td>111.1125</td>\n      <td>1.6150</td>\n      <td>0.014535</td>\n      <td>-2.956955</td>\n    </tr>\n    <tr>\n      <th>104</th>\n      <td>20200804</td>\n      <td>109.6650</td>\n      <td>0.3975</td>\n      <td>0.003625</td>\n      <td>-1.751993</td>\n    </tr>\n    <tr>\n      <th>106</th>\n      <td>20200731</td>\n      <td>106.2600</td>\n      <td>2.6775</td>\n      <td>0.025198</td>\n      <td>-4.316919</td>\n    </tr>\n    <tr>\n      <th>107</th>\n      <td>20200730</td>\n      <td>96.1900</td>\n      <td>10.0700</td>\n      <td>0.104689</td>\n      <td>-0.997336</td>\n    </tr>\n    <tr>\n      <th>108</th>\n      <td>20200729</td>\n      <td>95.0400</td>\n      <td>1.1500</td>\n      <td>0.012100</td>\n      <td>-0.449695</td>\n    </tr>\n    <tr>\n      <th>109</th>\n      <td>20200728</td>\n      <td>93.2525</td>\n      <td>1.7875</td>\n      <td>0.019168</td>\n      <td>1.059539</td>\n    </tr>\n    <tr>\n      <th>113</th>\n      <td>20200722</td>\n      <td>97.2725</td>\n      <td>-4.4275</td>\n      <td>-0.045516</td>\n      <td>-1.800092</td>\n    </tr>\n    <tr>\n      <th>114</th>\n      <td>20200721</td>\n      <td>97.0000</td>\n      <td>0.2725</td>\n      <td>0.002809</td>\n      <td>-0.721797</td>\n    </tr>\n    <tr>\n      <th>115</th>\n      <td>20200720</td>\n      <td>98.3575</td>\n      <td>-1.3575</td>\n      <td>-0.013802</td>\n      <td>1.280024</td>\n    </tr>\n    <tr>\n      <th>118</th>\n      <td>20200715</td>\n      <td>97.7250</td>\n      <td>-1.2025</td>\n      <td>-0.012305</td>\n      <td>-0.454004</td>\n    </tr>\n    <tr>\n      <th>129</th>\n      <td>20200629</td>\n      <td>90.4450</td>\n      <td>0.7550</td>\n      <td>0.008348</td>\n      <td>0.253805</td>\n    </tr>\n    <tr>\n      <th>134</th>\n      <td>20200622</td>\n      <td>89.7175</td>\n      <td>1.9150</td>\n      <td>0.021345</td>\n      <td>-0.229642</td>\n    </tr>\n    <tr>\n      <th>135</th>\n      <td>20200619</td>\n      <td>87.4300</td>\n      <td>2.2875</td>\n      <td>0.026164</td>\n      <td>2.448464</td>\n    </tr>\n    <tr>\n      <th>136</th>\n      <td>20200618</td>\n      <td>87.9325</td>\n      <td>-0.5025</td>\n      <td>-0.005715</td>\n      <td>0.742249</td>\n    </tr>\n    <tr>\n      <th>138</th>\n      <td>20200616</td>\n      <td>88.0200</td>\n      <td>-0.1225</td>\n      <td>-0.001392</td>\n      <td>-2.666533</td>\n    </tr>\n    <tr>\n      <th>382</th>\n      <td>20190627</td>\n      <td>49.9350</td>\n      <td>-0.4550</td>\n      <td>-0.009112</td>\n      <td>0.597722</td>\n    </tr>\n    <tr>\n      <th>1194</th>\n      <td>20160406</td>\n      <td>27.7400</td>\n      <td>-0.6050</td>\n      <td>-0.021810</td>\n      <td>-1.817682</td>\n    </tr>\n    <tr>\n      <th>1477</th>\n      <td>20150220</td>\n      <td>32.3738</td>\n      <td>0.8762</td>\n      <td>0.027065</td>\n      <td>0.442261</td>\n    </tr>\n    <tr>\n      <th>1929</th>\n      <td>20130506</td>\n      <td>16.4539</td>\n      <td>-0.0733</td>\n      <td>-0.004455</td>\n      <td>-1.666435</td>\n    </tr>\n    <tr>\n      <th>2122</th>\n      <td>20120726</td>\n      <td>20.5314</td>\n      <td>0.3672</td>\n      <td>0.017885</td>\n      <td>1.633657</td>\n    </tr>\n    <tr>\n      <th>2227</th>\n      <td>20120227</td>\n      <td>18.7772</td>\n      <td>0.3446</td>\n      <td>0.018352</td>\n      <td>-0.396143</td>\n    </tr>\n    <tr>\n      <th>2364</th>\n      <td>20110810</td>\n      <td>12.9889</td>\n      <td>0.3575</td>\n      <td>0.027524</td>\n      <td>1.312540</td>\n    </tr>\n    <tr>\n      <th>2483</th>\n      <td>20110218</td>\n      <td>12.5200</td>\n      <td>-0.4268</td>\n      <td>-0.034089</td>\n      <td>1.724537</td>\n    </tr>\n  </tbody>\n</table>\n</div>"
     },
     "metadata": {},
     "execution_count": 18
    }
   ],
   "source": [
    "# Change data's type to date\n",
    "import datetime\n",
    "\n",
    "string_date = stock['date'].to_list()\n",
    "datetime_lst = []\n",
    "\n",
    "for date in string_date:\n",
    "    date_obj = datetime.datetime.strptime(date, '%Y-%m-%d')\n",
    "    date_int = (10000 * date_obj.year) + (100 * date_obj.month) + (date_obj.day)\n",
    "    datetime_lst.append(date_int)\n",
    "\n",
    "stock['date'] = datetime_lst\n",
    "\n",
    "stock"
   ]
  },
  {
   "cell_type": "code",
   "execution_count": 19,
   "metadata": {},
   "outputs": [
    {
     "output_type": "execute_result",
     "data": {
      "text/plain": [
       "<AxesSubplot:xlabel='score', ylabel='change'>"
      ]
     },
     "metadata": {},
     "execution_count": 19
    },
    {
     "output_type": "display_data",
     "data": {
      "text/plain": "<Figure size 432x288 with 1 Axes>",
      "image/svg+xml": "<?xml version=\"1.0\" encoding=\"utf-8\" standalone=\"no\"?>\r\n<!DOCTYPE svg PUBLIC \"-//W3C//DTD SVG 1.1//EN\"\r\n  \"http://www.w3.org/Graphics/SVG/1.1/DTD/svg11.dtd\">\r\n<!-- Created with matplotlib (https://matplotlib.org/) -->\r\n<svg height=\"262.19625pt\" version=\"1.1\" viewBox=\"0 0 394.160938 262.19625\" width=\"394.160938pt\" xmlns=\"http://www.w3.org/2000/svg\" xmlns:xlink=\"http://www.w3.org/1999/xlink\">\r\n <metadata>\r\n  <rdf:RDF xmlns:cc=\"http://creativecommons.org/ns#\" xmlns:dc=\"http://purl.org/dc/elements/1.1/\" xmlns:rdf=\"http://www.w3.org/1999/02/22-rdf-syntax-ns#\">\r\n   <cc:Work>\r\n    <dc:type rdf:resource=\"http://purl.org/dc/dcmitype/StillImage\"/>\r\n    <dc:date>2021-01-03T17:13:06.301626</dc:date>\r\n    <dc:format>image/svg+xml</dc:format>\r\n    <dc:creator>\r\n     <cc:Agent>\r\n      <dc:title>Matplotlib v3.3.2, https://matplotlib.org/</dc:title>\r\n     </cc:Agent>\r\n    </dc:creator>\r\n   </cc:Work>\r\n  </rdf:RDF>\r\n </metadata>\r\n <defs>\r\n  <style type=\"text/css\">*{stroke-linecap:butt;stroke-linejoin:round;}</style>\r\n </defs>\r\n <g id=\"figure_1\">\r\n  <g id=\"patch_1\">\r\n   <path d=\"M 0 262.19625 \r\nL 394.160938 262.19625 \r\nL 394.160938 0 \r\nL 0 0 \r\nz\r\n\" style=\"fill:none;\"/>\r\n  </g>\r\n  <g id=\"axes_1\">\r\n   <g id=\"patch_2\">\r\n    <path d=\"M 52.160938 224.64 \r\nL 386.960938 224.64 \r\nL 386.960938 7.2 \r\nL 52.160938 7.2 \r\nz\r\n\" style=\"fill:#ffffff;\"/>\r\n   </g>\r\n   <g id=\"PathCollection_1\">\r\n    <defs>\r\n     <path d=\"M 0 2.236068 \r\nC 0.593012 2.236068 1.161816 2.000462 1.581139 1.581139 \r\nC 2.000462 1.161816 2.236068 0.593012 2.236068 0 \r\nC 2.236068 -0.593012 2.000462 -1.161816 1.581139 -1.581139 \r\nC 1.161816 -2.000462 0.593012 -2.236068 0 -2.236068 \r\nC -0.593012 -2.236068 -1.161816 -2.000462 -1.581139 -1.581139 \r\nC -2.000462 -1.161816 -2.236068 -0.593012 -2.236068 0 \r\nC -2.236068 0.593012 -2.000462 1.161816 -1.581139 1.581139 \r\nC -1.161816 2.000462 -0.593012 2.236068 0 2.236068 \r\nz\r\n\" id=\"m945c85e3e3\" style=\"stroke:#1f77b4;\"/>\r\n    </defs>\r\n    <g clip-path=\"url(#p35eb7fba65)\">\r\n     <use style=\"fill:#1f77b4;stroke:#1f77b4;\" x=\"319.831577\" xlink:href=\"#m945c85e3e3\" y=\"115.431517\"/>\r\n     <use style=\"fill:#1f77b4;stroke:#1f77b4;\" x=\"312.257577\" xlink:href=\"#m945c85e3e3\" y=\"148.594075\"/>\r\n     <use style=\"fill:#1f77b4;stroke:#1f77b4;\" x=\"357.341938\" xlink:href=\"#m945c85e3e3\" y=\"116.734138\"/>\r\n     <use style=\"fill:#1f77b4;stroke:#1f77b4;\" x=\"277.879236\" xlink:href=\"#m945c85e3e3\" y=\"127.155106\"/>\r\n     <use style=\"fill:#1f77b4;stroke:#1f77b4;\" x=\"292.847612\" xlink:href=\"#m945c85e3e3\" y=\"60.178679\"/>\r\n     <use style=\"fill:#1f77b4;stroke:#1f77b4;\" x=\"268.410894\" xlink:href=\"#m945c85e3e3\" y=\"110.546689\"/>\r\n     <use style=\"fill:#1f77b4;stroke:#1f77b4;\" x=\"298.428029\" xlink:href=\"#m945c85e3e3\" y=\"122.487381\"/>\r\n     <use style=\"fill:#1f77b4;stroke:#1f77b4;\" x=\"286.862488\" xlink:href=\"#m945c85e3e3\" y=\"119.773587\"/>\r\n     <use style=\"fill:#1f77b4;stroke:#1f77b4;\" x=\"306.705776\" xlink:href=\"#m945c85e3e3\" y=\"88.185029\"/>\r\n     <use style=\"fill:#1f77b4;stroke:#1f77b4;\" x=\"309.292139\" xlink:href=\"#m945c85e3e3\" y=\"130.194554\"/>\r\n     <use style=\"fill:#1f77b4;stroke:#1f77b4;\" x=\"317.01229\" xlink:href=\"#m945c85e3e3\" y=\"196.519671\"/>\r\n     <use style=\"fill:#1f77b4;stroke:#1f77b4;\" x=\"299.203335\" xlink:href=\"#m945c85e3e3\" y=\"185.013186\"/>\r\n     <use style=\"fill:#1f77b4;stroke:#1f77b4;\" x=\"343.411022\" xlink:href=\"#m945c85e3e3\" y=\"134.102417\"/>\r\n     <use style=\"fill:#1f77b4;stroke:#1f77b4;\" x=\"310.50746\" xlink:href=\"#m945c85e3e3\" y=\"138.553039\"/>\r\n     <use style=\"fill:#1f77b4;stroke:#1f77b4;\" x=\"323.292557\" xlink:href=\"#m945c85e3e3\" y=\"133.342555\"/>\r\n     <use style=\"fill:#1f77b4;stroke:#1f77b4;\" x=\"285.323299\" xlink:href=\"#m945c85e3e3\" y=\"125.418278\"/>\r\n     <use style=\"fill:#1f77b4;stroke:#1f77b4;\" x=\"272.233722\" xlink:href=\"#m945c85e3e3\" y=\"162.217319\"/>\r\n     <use style=\"fill:#1f77b4;stroke:#1f77b4;\" x=\"370.29332\" xlink:href=\"#m945c85e3e3\" y=\"45.741297\"/>\r\n     <use style=\"fill:#1f77b4;stroke:#1f77b4;\" x=\"279.625358\" xlink:href=\"#m945c85e3e3\" y=\"104.684894\"/>\r\n     <use style=\"fill:#1f77b4;stroke:#1f77b4;\" x=\"324.749502\" xlink:href=\"#m945c85e3e3\" y=\"105.553308\"/>\r\n     <use style=\"fill:#1f77b4;stroke:#1f77b4;\" x=\"371.742756\" xlink:href=\"#m945c85e3e3\" y=\"135.839245\"/>\r\n     <use style=\"fill:#1f77b4;stroke:#1f77b4;\" x=\"329.986754\" xlink:href=\"#m945c85e3e3\" y=\"82.323235\"/>\r\n     <use style=\"fill:#1f77b4;stroke:#1f77b4;\" x=\"265.167652\" xlink:href=\"#m945c85e3e3\" y=\"164.388354\"/>\r\n     <use style=\"fill:#1f77b4;stroke:#1f77b4;\" x=\"297.093603\" xlink:href=\"#m945c85e3e3\" y=\"145.826006\"/>\r\n     <use style=\"fill:#1f77b4;stroke:#1f77b4;\" x=\"67.379119\" xlink:href=\"#m945c85e3e3\" y=\"214.756364\"/>\r\n     <use style=\"fill:#1f77b4;stroke:#1f77b4;\" x=\"269.361747\" xlink:href=\"#m945c85e3e3\" y=\"125.526829\"/>\r\n     <use style=\"fill:#1f77b4;stroke:#1f77b4;\" x=\"332.03801\" xlink:href=\"#m945c85e3e3\" y=\"156.572628\"/>\r\n     <use style=\"fill:#1f77b4;stroke:#1f77b4;\" x=\"289.722704\" xlink:href=\"#m945c85e3e3\" y=\"142.813695\"/>\r\n     <use style=\"fill:#1f77b4;stroke:#1f77b4;\" x=\"348.360781\" xlink:href=\"#m945c85e3e3\" y=\"107.968585\"/>\r\n     <use style=\"fill:#1f77b4;stroke:#1f77b4;\" x=\"296.129801\" xlink:href=\"#m945c85e3e3\" y=\"60.232955\"/>\r\n     <use style=\"fill:#1f77b4;stroke:#1f77b4;\" x=\"316.83879\" xlink:href=\"#m945c85e3e3\" y=\"98.524583\"/>\r\n     <use style=\"fill:#1f77b4;stroke:#1f77b4;\" x=\"315.40823\" xlink:href=\"#m945c85e3e3\" y=\"124.821243\"/>\r\n     <use style=\"fill:#1f77b4;stroke:#1f77b4;\" x=\"312.550104\" xlink:href=\"#m945c85e3e3\" y=\"129.651796\"/>\r\n     <use style=\"fill:#1f77b4;stroke:#1f77b4;\" x=\"312.669475\" xlink:href=\"#m945c85e3e3\" y=\"127.507899\"/>\r\n     <use style=\"fill:#1f77b4;stroke:#1f77b4;\" x=\"281.065929\" xlink:href=\"#m945c85e3e3\" y=\"162.787216\"/>\r\n     <use style=\"fill:#1f77b4;stroke:#1f77b4;\" x=\"264.072978\" xlink:href=\"#m945c85e3e3\" y=\"108.864137\"/>\r\n     <use style=\"fill:#1f77b4;stroke:#1f77b4;\" x=\"285.076023\" xlink:href=\"#m945c85e3e3\" y=\"122.080312\"/>\r\n     <use style=\"fill:#1f77b4;stroke:#1f77b4;\" x=\"240.368196\" xlink:href=\"#m945c85e3e3\" y=\"97.330514\"/>\r\n     <use style=\"fill:#1f77b4;stroke:#1f77b4;\" x=\"298.230033\" xlink:href=\"#m945c85e3e3\" y=\"17.083636\"/>\r\n     <use style=\"fill:#1f77b4;stroke:#1f77b4;\" x=\"307.775668\" xlink:href=\"#m945c85e3e3\" y=\"113.911793\"/>\r\n     <use style=\"fill:#1f77b4;stroke:#1f77b4;\" x=\"334.08231\" xlink:href=\"#m945c85e3e3\" y=\"106.991619\"/>\r\n     <use style=\"fill:#1f77b4;stroke:#1f77b4;\" x=\"284.237643\" xlink:href=\"#m945c85e3e3\" y=\"174.456528\"/>\r\n     <use style=\"fill:#1f77b4;stroke:#1f77b4;\" x=\"303.03282\" xlink:href=\"#m945c85e3e3\" y=\"123.437208\"/>\r\n     <use style=\"fill:#1f77b4;stroke:#1f77b4;\" x=\"337.925469\" xlink:href=\"#m945c85e3e3\" y=\"141.131143\"/>\r\n     <use style=\"fill:#1f77b4;stroke:#1f77b4;\" x=\"307.700569\" xlink:href=\"#m945c85e3e3\" y=\"139.448591\"/>\r\n     <use style=\"fill:#1f77b4;stroke:#1f77b4;\" x=\"320.037995\" xlink:href=\"#m945c85e3e3\" y=\"118.199587\"/>\r\n     <use style=\"fill:#1f77b4;stroke:#1f77b4;\" x=\"311.611303\" xlink:href=\"#m945c85e3e3\" y=\"105.607584\"/>\r\n     <use style=\"fill:#1f77b4;stroke:#1f77b4;\" x=\"358.291916\" xlink:href=\"#m945c85e3e3\" y=\"101.564032\"/>\r\n     <use style=\"fill:#1f77b4;stroke:#1f77b4;\" x=\"328.551812\" xlink:href=\"#m945c85e3e3\" y=\"131.849969\"/>\r\n     <use style=\"fill:#1f77b4;stroke:#1f77b4;\" x=\"269.135171\" xlink:href=\"#m945c85e3e3\" y=\"127.725002\"/>\r\n     <use style=\"fill:#1f77b4;stroke:#1f77b4;\" x=\"326.03263\" xlink:href=\"#m945c85e3e3\" y=\"131.334348\"/>\r\n     <use style=\"fill:#1f77b4;stroke:#1f77b4;\" x=\"283.931028\" xlink:href=\"#m945c85e3e3\" y=\"132.962624\"/>\r\n     <use style=\"fill:#1f77b4;stroke:#1f77b4;\" x=\"323.322877\" xlink:href=\"#m945c85e3e3\" y=\"116.883939\"/>\r\n     <use style=\"fill:#1f77b4;stroke:#1f77b4;\" x=\"286.567345\" xlink:href=\"#m945c85e3e3\" y=\"127.190928\"/>\r\n     <use style=\"fill:#1f77b4;stroke:#1f77b4;\" x=\"344.089447\" xlink:href=\"#m945c85e3e3\" y=\"122.409223\"/>\r\n     <use style=\"fill:#1f77b4;stroke:#1f77b4;\" x=\"308.709112\" xlink:href=\"#m945c85e3e3\" y=\"122.65455\"/>\r\n     <use style=\"fill:#1f77b4;stroke:#1f77b4;\" x=\"338.492232\" xlink:href=\"#m945c85e3e3\" y=\"122.514518\"/>\r\n     <use style=\"fill:#1f77b4;stroke:#1f77b4;\" x=\"345.67353\" xlink:href=\"#m945c85e3e3\" y=\"131.028232\"/>\r\n    </g>\r\n   </g>\r\n   <g id=\"matplotlib.axis_1\">\r\n    <g id=\"xtick_1\">\r\n     <g id=\"line2d_1\">\r\n      <defs>\r\n       <path d=\"M 0 0 \r\nL 0 3.5 \r\n\" id=\"mbabbefcf45\" style=\"stroke:#000000;stroke-width:0.8;\"/>\r\n      </defs>\r\n      <g>\r\n       <use style=\"stroke:#000000;stroke-width:0.8;\" x=\"54.157203\" xlink:href=\"#mbabbefcf45\" y=\"224.64\"/>\r\n      </g>\r\n     </g>\r\n     <g id=\"text_1\">\r\n      <!-- −15.0 -->\r\n      <g transform=\"translate(38.834547 239.238438)scale(0.1 -0.1)\">\r\n       <defs>\r\n        <path d=\"M 10.59375 35.5 \r\nL 73.1875 35.5 \r\nL 73.1875 27.203125 \r\nL 10.59375 27.203125 \r\nz\r\n\" id=\"DejaVuSans-8722\"/>\r\n        <path d=\"M 12.40625 8.296875 \r\nL 28.515625 8.296875 \r\nL 28.515625 63.921875 \r\nL 10.984375 60.40625 \r\nL 10.984375 69.390625 \r\nL 28.421875 72.90625 \r\nL 38.28125 72.90625 \r\nL 38.28125 8.296875 \r\nL 54.390625 8.296875 \r\nL 54.390625 0 \r\nL 12.40625 0 \r\nz\r\n\" id=\"DejaVuSans-49\"/>\r\n        <path d=\"M 10.796875 72.90625 \r\nL 49.515625 72.90625 \r\nL 49.515625 64.59375 \r\nL 19.828125 64.59375 \r\nL 19.828125 46.734375 \r\nQ 21.96875 47.46875 24.109375 47.828125 \r\nQ 26.265625 48.1875 28.421875 48.1875 \r\nQ 40.625 48.1875 47.75 41.5 \r\nQ 54.890625 34.8125 54.890625 23.390625 \r\nQ 54.890625 11.625 47.5625 5.09375 \r\nQ 40.234375 -1.421875 26.90625 -1.421875 \r\nQ 22.3125 -1.421875 17.546875 -0.640625 \r\nQ 12.796875 0.140625 7.71875 1.703125 \r\nL 7.71875 11.625 \r\nQ 12.109375 9.234375 16.796875 8.0625 \r\nQ 21.484375 6.890625 26.703125 6.890625 \r\nQ 35.15625 6.890625 40.078125 11.328125 \r\nQ 45.015625 15.765625 45.015625 23.390625 \r\nQ 45.015625 31 40.078125 35.4375 \r\nQ 35.15625 39.890625 26.703125 39.890625 \r\nQ 22.75 39.890625 18.8125 39.015625 \r\nQ 14.890625 38.140625 10.796875 36.28125 \r\nz\r\n\" id=\"DejaVuSans-53\"/>\r\n        <path d=\"M 10.6875 12.40625 \r\nL 21 12.40625 \r\nL 21 0 \r\nL 10.6875 0 \r\nz\r\n\" id=\"DejaVuSans-46\"/>\r\n        <path d=\"M 31.78125 66.40625 \r\nQ 24.171875 66.40625 20.328125 58.90625 \r\nQ 16.5 51.421875 16.5 36.375 \r\nQ 16.5 21.390625 20.328125 13.890625 \r\nQ 24.171875 6.390625 31.78125 6.390625 \r\nQ 39.453125 6.390625 43.28125 13.890625 \r\nQ 47.125 21.390625 47.125 36.375 \r\nQ 47.125 51.421875 43.28125 58.90625 \r\nQ 39.453125 66.40625 31.78125 66.40625 \r\nz\r\nM 31.78125 74.21875 \r\nQ 44.046875 74.21875 50.515625 64.515625 \r\nQ 56.984375 54.828125 56.984375 36.375 \r\nQ 56.984375 17.96875 50.515625 8.265625 \r\nQ 44.046875 -1.421875 31.78125 -1.421875 \r\nQ 19.53125 -1.421875 13.0625 8.265625 \r\nQ 6.59375 17.96875 6.59375 36.375 \r\nQ 6.59375 54.828125 13.0625 64.515625 \r\nQ 19.53125 74.21875 31.78125 74.21875 \r\nz\r\n\" id=\"DejaVuSans-48\"/>\r\n       </defs>\r\n       <use xlink:href=\"#DejaVuSans-8722\"/>\r\n       <use x=\"83.789062\" xlink:href=\"#DejaVuSans-49\"/>\r\n       <use x=\"147.412109\" xlink:href=\"#DejaVuSans-53\"/>\r\n       <use x=\"211.035156\" xlink:href=\"#DejaVuSans-46\"/>\r\n       <use x=\"242.822266\" xlink:href=\"#DejaVuSans-48\"/>\r\n      </g>\r\n     </g>\r\n    </g>\r\n    <g id=\"xtick_2\">\r\n     <g id=\"line2d_2\">\r\n      <g>\r\n       <use style=\"stroke:#000000;stroke-width:0.8;\" x=\"97.733346\" xlink:href=\"#mbabbefcf45\" y=\"224.64\"/>\r\n      </g>\r\n     </g>\r\n     <g id=\"text_2\">\r\n      <!-- −12.5 -->\r\n      <g transform=\"translate(82.41069 239.238438)scale(0.1 -0.1)\">\r\n       <defs>\r\n        <path d=\"M 19.1875 8.296875 \r\nL 53.609375 8.296875 \r\nL 53.609375 0 \r\nL 7.328125 0 \r\nL 7.328125 8.296875 \r\nQ 12.9375 14.109375 22.625 23.890625 \r\nQ 32.328125 33.6875 34.8125 36.53125 \r\nQ 39.546875 41.84375 41.421875 45.53125 \r\nQ 43.3125 49.21875 43.3125 52.78125 \r\nQ 43.3125 58.59375 39.234375 62.25 \r\nQ 35.15625 65.921875 28.609375 65.921875 \r\nQ 23.96875 65.921875 18.8125 64.3125 \r\nQ 13.671875 62.703125 7.8125 59.421875 \r\nL 7.8125 69.390625 \r\nQ 13.765625 71.78125 18.9375 73 \r\nQ 24.125 74.21875 28.421875 74.21875 \r\nQ 39.75 74.21875 46.484375 68.546875 \r\nQ 53.21875 62.890625 53.21875 53.421875 \r\nQ 53.21875 48.921875 51.53125 44.890625 \r\nQ 49.859375 40.875 45.40625 35.40625 \r\nQ 44.1875 33.984375 37.640625 27.21875 \r\nQ 31.109375 20.453125 19.1875 8.296875 \r\nz\r\n\" id=\"DejaVuSans-50\"/>\r\n       </defs>\r\n       <use xlink:href=\"#DejaVuSans-8722\"/>\r\n       <use x=\"83.789062\" xlink:href=\"#DejaVuSans-49\"/>\r\n       <use x=\"147.412109\" xlink:href=\"#DejaVuSans-50\"/>\r\n       <use x=\"211.035156\" xlink:href=\"#DejaVuSans-46\"/>\r\n       <use x=\"242.822266\" xlink:href=\"#DejaVuSans-53\"/>\r\n      </g>\r\n     </g>\r\n    </g>\r\n    <g id=\"xtick_3\">\r\n     <g id=\"line2d_3\">\r\n      <g>\r\n       <use style=\"stroke:#000000;stroke-width:0.8;\" x=\"141.30949\" xlink:href=\"#mbabbefcf45\" y=\"224.64\"/>\r\n      </g>\r\n     </g>\r\n     <g id=\"text_3\">\r\n      <!-- −10.0 -->\r\n      <g transform=\"translate(125.986834 239.238438)scale(0.1 -0.1)\">\r\n       <use xlink:href=\"#DejaVuSans-8722\"/>\r\n       <use x=\"83.789062\" xlink:href=\"#DejaVuSans-49\"/>\r\n       <use x=\"147.412109\" xlink:href=\"#DejaVuSans-48\"/>\r\n       <use x=\"211.035156\" xlink:href=\"#DejaVuSans-46\"/>\r\n       <use x=\"242.822266\" xlink:href=\"#DejaVuSans-48\"/>\r\n      </g>\r\n     </g>\r\n    </g>\r\n    <g id=\"xtick_4\">\r\n     <g id=\"line2d_4\">\r\n      <g>\r\n       <use style=\"stroke:#000000;stroke-width:0.8;\" x=\"184.885634\" xlink:href=\"#mbabbefcf45\" y=\"224.64\"/>\r\n      </g>\r\n     </g>\r\n     <g id=\"text_4\">\r\n      <!-- −7.5 -->\r\n      <g transform=\"translate(172.744227 239.238438)scale(0.1 -0.1)\">\r\n       <defs>\r\n        <path d=\"M 8.203125 72.90625 \r\nL 55.078125 72.90625 \r\nL 55.078125 68.703125 \r\nL 28.609375 0 \r\nL 18.3125 0 \r\nL 43.21875 64.59375 \r\nL 8.203125 64.59375 \r\nz\r\n\" id=\"DejaVuSans-55\"/>\r\n       </defs>\r\n       <use xlink:href=\"#DejaVuSans-8722\"/>\r\n       <use x=\"83.789062\" xlink:href=\"#DejaVuSans-55\"/>\r\n       <use x=\"147.412109\" xlink:href=\"#DejaVuSans-46\"/>\r\n       <use x=\"179.199219\" xlink:href=\"#DejaVuSans-53\"/>\r\n      </g>\r\n     </g>\r\n    </g>\r\n    <g id=\"xtick_5\">\r\n     <g id=\"line2d_5\">\r\n      <g>\r\n       <use style=\"stroke:#000000;stroke-width:0.8;\" x=\"228.461777\" xlink:href=\"#mbabbefcf45\" y=\"224.64\"/>\r\n      </g>\r\n     </g>\r\n     <g id=\"text_5\">\r\n      <!-- −5.0 -->\r\n      <g transform=\"translate(216.320371 239.238438)scale(0.1 -0.1)\">\r\n       <use xlink:href=\"#DejaVuSans-8722\"/>\r\n       <use x=\"83.789062\" xlink:href=\"#DejaVuSans-53\"/>\r\n       <use x=\"147.412109\" xlink:href=\"#DejaVuSans-46\"/>\r\n       <use x=\"179.199219\" xlink:href=\"#DejaVuSans-48\"/>\r\n      </g>\r\n     </g>\r\n    </g>\r\n    <g id=\"xtick_6\">\r\n     <g id=\"line2d_6\">\r\n      <g>\r\n       <use style=\"stroke:#000000;stroke-width:0.8;\" x=\"272.037921\" xlink:href=\"#mbabbefcf45\" y=\"224.64\"/>\r\n      </g>\r\n     </g>\r\n     <g id=\"text_6\">\r\n      <!-- −2.5 -->\r\n      <g transform=\"translate(259.896514 239.238438)scale(0.1 -0.1)\">\r\n       <use xlink:href=\"#DejaVuSans-8722\"/>\r\n       <use x=\"83.789062\" xlink:href=\"#DejaVuSans-50\"/>\r\n       <use x=\"147.412109\" xlink:href=\"#DejaVuSans-46\"/>\r\n       <use x=\"179.199219\" xlink:href=\"#DejaVuSans-53\"/>\r\n      </g>\r\n     </g>\r\n    </g>\r\n    <g id=\"xtick_7\">\r\n     <g id=\"line2d_7\">\r\n      <g>\r\n       <use style=\"stroke:#000000;stroke-width:0.8;\" x=\"315.614064\" xlink:href=\"#mbabbefcf45\" y=\"224.64\"/>\r\n      </g>\r\n     </g>\r\n     <g id=\"text_7\">\r\n      <!-- 0.0 -->\r\n      <g transform=\"translate(307.662502 239.238438)scale(0.1 -0.1)\">\r\n       <use xlink:href=\"#DejaVuSans-48\"/>\r\n       <use x=\"63.623047\" xlink:href=\"#DejaVuSans-46\"/>\r\n       <use x=\"95.410156\" xlink:href=\"#DejaVuSans-48\"/>\r\n      </g>\r\n     </g>\r\n    </g>\r\n    <g id=\"xtick_8\">\r\n     <g id=\"line2d_8\">\r\n      <g>\r\n       <use style=\"stroke:#000000;stroke-width:0.8;\" x=\"359.190208\" xlink:href=\"#mbabbefcf45\" y=\"224.64\"/>\r\n      </g>\r\n     </g>\r\n     <g id=\"text_8\">\r\n      <!-- 2.5 -->\r\n      <g transform=\"translate(351.238645 239.238438)scale(0.1 -0.1)\">\r\n       <use xlink:href=\"#DejaVuSans-50\"/>\r\n       <use x=\"63.623047\" xlink:href=\"#DejaVuSans-46\"/>\r\n       <use x=\"95.410156\" xlink:href=\"#DejaVuSans-53\"/>\r\n      </g>\r\n     </g>\r\n    </g>\r\n    <g id=\"text_9\">\r\n     <!-- score -->\r\n     <g transform=\"translate(206.128125 252.916563)scale(0.1 -0.1)\">\r\n      <defs>\r\n       <path d=\"M 44.28125 53.078125 \r\nL 44.28125 44.578125 \r\nQ 40.484375 46.53125 36.375 47.5 \r\nQ 32.28125 48.484375 27.875 48.484375 \r\nQ 21.1875 48.484375 17.84375 46.4375 \r\nQ 14.5 44.390625 14.5 40.28125 \r\nQ 14.5 37.15625 16.890625 35.375 \r\nQ 19.28125 33.59375 26.515625 31.984375 \r\nL 29.59375 31.296875 \r\nQ 39.15625 29.25 43.1875 25.515625 \r\nQ 47.21875 21.78125 47.21875 15.09375 \r\nQ 47.21875 7.46875 41.1875 3.015625 \r\nQ 35.15625 -1.421875 24.609375 -1.421875 \r\nQ 20.21875 -1.421875 15.453125 -0.5625 \r\nQ 10.6875 0.296875 5.421875 2 \r\nL 5.421875 11.28125 \r\nQ 10.40625 8.6875 15.234375 7.390625 \r\nQ 20.0625 6.109375 24.8125 6.109375 \r\nQ 31.15625 6.109375 34.5625 8.28125 \r\nQ 37.984375 10.453125 37.984375 14.40625 \r\nQ 37.984375 18.0625 35.515625 20.015625 \r\nQ 33.0625 21.96875 24.703125 23.78125 \r\nL 21.578125 24.515625 \r\nQ 13.234375 26.265625 9.515625 29.90625 \r\nQ 5.8125 33.546875 5.8125 39.890625 \r\nQ 5.8125 47.609375 11.28125 51.796875 \r\nQ 16.75 56 26.8125 56 \r\nQ 31.78125 56 36.171875 55.265625 \r\nQ 40.578125 54.546875 44.28125 53.078125 \r\nz\r\n\" id=\"DejaVuSans-115\"/>\r\n       <path d=\"M 48.78125 52.59375 \r\nL 48.78125 44.1875 \r\nQ 44.96875 46.296875 41.140625 47.34375 \r\nQ 37.3125 48.390625 33.40625 48.390625 \r\nQ 24.65625 48.390625 19.8125 42.84375 \r\nQ 14.984375 37.3125 14.984375 27.296875 \r\nQ 14.984375 17.28125 19.8125 11.734375 \r\nQ 24.65625 6.203125 33.40625 6.203125 \r\nQ 37.3125 6.203125 41.140625 7.25 \r\nQ 44.96875 8.296875 48.78125 10.40625 \r\nL 48.78125 2.09375 \r\nQ 45.015625 0.34375 40.984375 -0.53125 \r\nQ 36.96875 -1.421875 32.421875 -1.421875 \r\nQ 20.0625 -1.421875 12.78125 6.34375 \r\nQ 5.515625 14.109375 5.515625 27.296875 \r\nQ 5.515625 40.671875 12.859375 48.328125 \r\nQ 20.21875 56 33.015625 56 \r\nQ 37.15625 56 41.109375 55.140625 \r\nQ 45.0625 54.296875 48.78125 52.59375 \r\nz\r\n\" id=\"DejaVuSans-99\"/>\r\n       <path d=\"M 30.609375 48.390625 \r\nQ 23.390625 48.390625 19.1875 42.75 \r\nQ 14.984375 37.109375 14.984375 27.296875 \r\nQ 14.984375 17.484375 19.15625 11.84375 \r\nQ 23.34375 6.203125 30.609375 6.203125 \r\nQ 37.796875 6.203125 41.984375 11.859375 \r\nQ 46.1875 17.53125 46.1875 27.296875 \r\nQ 46.1875 37.015625 41.984375 42.703125 \r\nQ 37.796875 48.390625 30.609375 48.390625 \r\nz\r\nM 30.609375 56 \r\nQ 42.328125 56 49.015625 48.375 \r\nQ 55.71875 40.765625 55.71875 27.296875 \r\nQ 55.71875 13.875 49.015625 6.21875 \r\nQ 42.328125 -1.421875 30.609375 -1.421875 \r\nQ 18.84375 -1.421875 12.171875 6.21875 \r\nQ 5.515625 13.875 5.515625 27.296875 \r\nQ 5.515625 40.765625 12.171875 48.375 \r\nQ 18.84375 56 30.609375 56 \r\nz\r\n\" id=\"DejaVuSans-111\"/>\r\n       <path d=\"M 41.109375 46.296875 \r\nQ 39.59375 47.171875 37.8125 47.578125 \r\nQ 36.03125 48 33.890625 48 \r\nQ 26.265625 48 22.1875 43.046875 \r\nQ 18.109375 38.09375 18.109375 28.8125 \r\nL 18.109375 0 \r\nL 9.078125 0 \r\nL 9.078125 54.6875 \r\nL 18.109375 54.6875 \r\nL 18.109375 46.1875 \r\nQ 20.953125 51.171875 25.484375 53.578125 \r\nQ 30.03125 56 36.53125 56 \r\nQ 37.453125 56 38.578125 55.875 \r\nQ 39.703125 55.765625 41.0625 55.515625 \r\nz\r\n\" id=\"DejaVuSans-114\"/>\r\n       <path d=\"M 56.203125 29.59375 \r\nL 56.203125 25.203125 \r\nL 14.890625 25.203125 \r\nQ 15.484375 15.921875 20.484375 11.0625 \r\nQ 25.484375 6.203125 34.421875 6.203125 \r\nQ 39.59375 6.203125 44.453125 7.46875 \r\nQ 49.3125 8.734375 54.109375 11.28125 \r\nL 54.109375 2.78125 \r\nQ 49.265625 0.734375 44.1875 -0.34375 \r\nQ 39.109375 -1.421875 33.890625 -1.421875 \r\nQ 20.796875 -1.421875 13.15625 6.1875 \r\nQ 5.515625 13.8125 5.515625 26.8125 \r\nQ 5.515625 40.234375 12.765625 48.109375 \r\nQ 20.015625 56 32.328125 56 \r\nQ 43.359375 56 49.78125 48.890625 \r\nQ 56.203125 41.796875 56.203125 29.59375 \r\nz\r\nM 47.21875 32.234375 \r\nQ 47.125 39.59375 43.09375 43.984375 \r\nQ 39.0625 48.390625 32.421875 48.390625 \r\nQ 24.90625 48.390625 20.390625 44.140625 \r\nQ 15.875 39.890625 15.1875 32.171875 \r\nz\r\n\" id=\"DejaVuSans-101\"/>\r\n      </defs>\r\n      <use xlink:href=\"#DejaVuSans-115\"/>\r\n      <use x=\"52.099609\" xlink:href=\"#DejaVuSans-99\"/>\r\n      <use x=\"107.080078\" xlink:href=\"#DejaVuSans-111\"/>\r\n      <use x=\"168.261719\" xlink:href=\"#DejaVuSans-114\"/>\r\n      <use x=\"207.125\" xlink:href=\"#DejaVuSans-101\"/>\r\n     </g>\r\n    </g>\r\n   </g>\r\n   <g id=\"matplotlib.axis_2\">\r\n    <g id=\"ytick_1\">\r\n     <g id=\"line2d_9\">\r\n      <defs>\r\n       <path d=\"M 0 0 \r\nL -3.5 0 \r\n\" id=\"m15303e0cf5\" style=\"stroke:#000000;stroke-width:0.8;\"/>\r\n      </defs>\r\n      <g>\r\n       <use style=\"stroke:#000000;stroke-width:0.8;\" x=\"52.160938\" xlink:href=\"#m15303e0cf5\" y=\"207.809052\"/>\r\n      </g>\r\n     </g>\r\n     <g id=\"text_10\">\r\n      <!-- −7.5 -->\r\n      <g transform=\"translate(20.878125 211.608271)scale(0.1 -0.1)\">\r\n       <use xlink:href=\"#DejaVuSans-8722\"/>\r\n       <use x=\"83.789062\" xlink:href=\"#DejaVuSans-55\"/>\r\n       <use x=\"147.412109\" xlink:href=\"#DejaVuSans-46\"/>\r\n       <use x=\"179.199219\" xlink:href=\"#DejaVuSans-53\"/>\r\n      </g>\r\n     </g>\r\n    </g>\r\n    <g id=\"ytick_2\">\r\n     <g id=\"line2d_10\">\r\n      <g>\r\n       <use style=\"stroke:#000000;stroke-width:0.8;\" x=\"52.160938\" xlink:href=\"#m15303e0cf5\" y=\"180.671116\"/>\r\n      </g>\r\n     </g>\r\n     <g id=\"text_11\">\r\n      <!-- −5.0 -->\r\n      <g transform=\"translate(20.878125 184.470335)scale(0.1 -0.1)\">\r\n       <use xlink:href=\"#DejaVuSans-8722\"/>\r\n       <use x=\"83.789062\" xlink:href=\"#DejaVuSans-53\"/>\r\n       <use x=\"147.412109\" xlink:href=\"#DejaVuSans-46\"/>\r\n       <use x=\"179.199219\" xlink:href=\"#DejaVuSans-48\"/>\r\n      </g>\r\n     </g>\r\n    </g>\r\n    <g id=\"ytick_3\">\r\n     <g id=\"line2d_11\">\r\n      <g>\r\n       <use style=\"stroke:#000000;stroke-width:0.8;\" x=\"52.160938\" xlink:href=\"#m15303e0cf5\" y=\"153.53318\"/>\r\n      </g>\r\n     </g>\r\n     <g id=\"text_12\">\r\n      <!-- −2.5 -->\r\n      <g transform=\"translate(20.878125 157.332398)scale(0.1 -0.1)\">\r\n       <use xlink:href=\"#DejaVuSans-8722\"/>\r\n       <use x=\"83.789062\" xlink:href=\"#DejaVuSans-50\"/>\r\n       <use x=\"147.412109\" xlink:href=\"#DejaVuSans-46\"/>\r\n       <use x=\"179.199219\" xlink:href=\"#DejaVuSans-53\"/>\r\n      </g>\r\n     </g>\r\n    </g>\r\n    <g id=\"ytick_4\">\r\n     <g id=\"line2d_12\">\r\n      <g>\r\n       <use style=\"stroke:#000000;stroke-width:0.8;\" x=\"52.160938\" xlink:href=\"#m15303e0cf5\" y=\"126.395243\"/>\r\n      </g>\r\n     </g>\r\n     <g id=\"text_13\">\r\n      <!-- 0.0 -->\r\n      <g transform=\"translate(29.257812 130.194462)scale(0.1 -0.1)\">\r\n       <use xlink:href=\"#DejaVuSans-48\"/>\r\n       <use x=\"63.623047\" xlink:href=\"#DejaVuSans-46\"/>\r\n       <use x=\"95.410156\" xlink:href=\"#DejaVuSans-48\"/>\r\n      </g>\r\n     </g>\r\n    </g>\r\n    <g id=\"ytick_5\">\r\n     <g id=\"line2d_13\">\r\n      <g>\r\n       <use style=\"stroke:#000000;stroke-width:0.8;\" x=\"52.160938\" xlink:href=\"#m15303e0cf5\" y=\"99.257307\"/>\r\n      </g>\r\n     </g>\r\n     <g id=\"text_14\">\r\n      <!-- 2.5 -->\r\n      <g transform=\"translate(29.257812 103.056526)scale(0.1 -0.1)\">\r\n       <use xlink:href=\"#DejaVuSans-50\"/>\r\n       <use x=\"63.623047\" xlink:href=\"#DejaVuSans-46\"/>\r\n       <use x=\"95.410156\" xlink:href=\"#DejaVuSans-53\"/>\r\n      </g>\r\n     </g>\r\n    </g>\r\n    <g id=\"ytick_6\">\r\n     <g id=\"line2d_14\">\r\n      <g>\r\n       <use style=\"stroke:#000000;stroke-width:0.8;\" x=\"52.160938\" xlink:href=\"#m15303e0cf5\" y=\"72.119371\"/>\r\n      </g>\r\n     </g>\r\n     <g id=\"text_15\">\r\n      <!-- 5.0 -->\r\n      <g transform=\"translate(29.257812 75.91859)scale(0.1 -0.1)\">\r\n       <use xlink:href=\"#DejaVuSans-53\"/>\r\n       <use x=\"63.623047\" xlink:href=\"#DejaVuSans-46\"/>\r\n       <use x=\"95.410156\" xlink:href=\"#DejaVuSans-48\"/>\r\n      </g>\r\n     </g>\r\n    </g>\r\n    <g id=\"ytick_7\">\r\n     <g id=\"line2d_15\">\r\n      <g>\r\n       <use style=\"stroke:#000000;stroke-width:0.8;\" x=\"52.160938\" xlink:href=\"#m15303e0cf5\" y=\"44.981435\"/>\r\n      </g>\r\n     </g>\r\n     <g id=\"text_16\">\r\n      <!-- 7.5 -->\r\n      <g transform=\"translate(29.257812 48.780654)scale(0.1 -0.1)\">\r\n       <use xlink:href=\"#DejaVuSans-55\"/>\r\n       <use x=\"63.623047\" xlink:href=\"#DejaVuSans-46\"/>\r\n       <use x=\"95.410156\" xlink:href=\"#DejaVuSans-53\"/>\r\n      </g>\r\n     </g>\r\n    </g>\r\n    <g id=\"ytick_8\">\r\n     <g id=\"line2d_16\">\r\n      <g>\r\n       <use style=\"stroke:#000000;stroke-width:0.8;\" x=\"52.160938\" xlink:href=\"#m15303e0cf5\" y=\"17.843499\"/>\r\n      </g>\r\n     </g>\r\n     <g id=\"text_17\">\r\n      <!-- 10.0 -->\r\n      <g transform=\"translate(22.895313 21.642717)scale(0.1 -0.1)\">\r\n       <use xlink:href=\"#DejaVuSans-49\"/>\r\n       <use x=\"63.623047\" xlink:href=\"#DejaVuSans-48\"/>\r\n       <use x=\"127.246094\" xlink:href=\"#DejaVuSans-46\"/>\r\n       <use x=\"159.033203\" xlink:href=\"#DejaVuSans-48\"/>\r\n      </g>\r\n     </g>\r\n    </g>\r\n    <g id=\"text_18\">\r\n     <!-- change -->\r\n     <g transform=\"translate(14.798437 134.321563)rotate(-90)scale(0.1 -0.1)\">\r\n      <defs>\r\n       <path d=\"M 54.890625 33.015625 \r\nL 54.890625 0 \r\nL 45.90625 0 \r\nL 45.90625 32.71875 \r\nQ 45.90625 40.484375 42.875 44.328125 \r\nQ 39.84375 48.1875 33.796875 48.1875 \r\nQ 26.515625 48.1875 22.3125 43.546875 \r\nQ 18.109375 38.921875 18.109375 30.90625 \r\nL 18.109375 0 \r\nL 9.078125 0 \r\nL 9.078125 75.984375 \r\nL 18.109375 75.984375 \r\nL 18.109375 46.1875 \r\nQ 21.34375 51.125 25.703125 53.5625 \r\nQ 30.078125 56 35.796875 56 \r\nQ 45.21875 56 50.046875 50.171875 \r\nQ 54.890625 44.34375 54.890625 33.015625 \r\nz\r\n\" id=\"DejaVuSans-104\"/>\r\n       <path d=\"M 34.28125 27.484375 \r\nQ 23.390625 27.484375 19.1875 25 \r\nQ 14.984375 22.515625 14.984375 16.5 \r\nQ 14.984375 11.71875 18.140625 8.90625 \r\nQ 21.296875 6.109375 26.703125 6.109375 \r\nQ 34.1875 6.109375 38.703125 11.40625 \r\nQ 43.21875 16.703125 43.21875 25.484375 \r\nL 43.21875 27.484375 \r\nz\r\nM 52.203125 31.203125 \r\nL 52.203125 0 \r\nL 43.21875 0 \r\nL 43.21875 8.296875 \r\nQ 40.140625 3.328125 35.546875 0.953125 \r\nQ 30.953125 -1.421875 24.3125 -1.421875 \r\nQ 15.921875 -1.421875 10.953125 3.296875 \r\nQ 6 8.015625 6 15.921875 \r\nQ 6 25.140625 12.171875 29.828125 \r\nQ 18.359375 34.515625 30.609375 34.515625 \r\nL 43.21875 34.515625 \r\nL 43.21875 35.40625 \r\nQ 43.21875 41.609375 39.140625 45 \r\nQ 35.0625 48.390625 27.6875 48.390625 \r\nQ 23 48.390625 18.546875 47.265625 \r\nQ 14.109375 46.140625 10.015625 43.890625 \r\nL 10.015625 52.203125 \r\nQ 14.9375 54.109375 19.578125 55.046875 \r\nQ 24.21875 56 28.609375 56 \r\nQ 40.484375 56 46.34375 49.84375 \r\nQ 52.203125 43.703125 52.203125 31.203125 \r\nz\r\n\" id=\"DejaVuSans-97\"/>\r\n       <path d=\"M 54.890625 33.015625 \r\nL 54.890625 0 \r\nL 45.90625 0 \r\nL 45.90625 32.71875 \r\nQ 45.90625 40.484375 42.875 44.328125 \r\nQ 39.84375 48.1875 33.796875 48.1875 \r\nQ 26.515625 48.1875 22.3125 43.546875 \r\nQ 18.109375 38.921875 18.109375 30.90625 \r\nL 18.109375 0 \r\nL 9.078125 0 \r\nL 9.078125 54.6875 \r\nL 18.109375 54.6875 \r\nL 18.109375 46.1875 \r\nQ 21.34375 51.125 25.703125 53.5625 \r\nQ 30.078125 56 35.796875 56 \r\nQ 45.21875 56 50.046875 50.171875 \r\nQ 54.890625 44.34375 54.890625 33.015625 \r\nz\r\n\" id=\"DejaVuSans-110\"/>\r\n       <path d=\"M 45.40625 27.984375 \r\nQ 45.40625 37.75 41.375 43.109375 \r\nQ 37.359375 48.484375 30.078125 48.484375 \r\nQ 22.859375 48.484375 18.828125 43.109375 \r\nQ 14.796875 37.75 14.796875 27.984375 \r\nQ 14.796875 18.265625 18.828125 12.890625 \r\nQ 22.859375 7.515625 30.078125 7.515625 \r\nQ 37.359375 7.515625 41.375 12.890625 \r\nQ 45.40625 18.265625 45.40625 27.984375 \r\nz\r\nM 54.390625 6.78125 \r\nQ 54.390625 -7.171875 48.1875 -13.984375 \r\nQ 42 -20.796875 29.203125 -20.796875 \r\nQ 24.46875 -20.796875 20.265625 -20.09375 \r\nQ 16.0625 -19.390625 12.109375 -17.921875 \r\nL 12.109375 -9.1875 \r\nQ 16.0625 -11.328125 19.921875 -12.34375 \r\nQ 23.78125 -13.375 27.78125 -13.375 \r\nQ 36.625 -13.375 41.015625 -8.765625 \r\nQ 45.40625 -4.15625 45.40625 5.171875 \r\nL 45.40625 9.625 \r\nQ 42.625 4.78125 38.28125 2.390625 \r\nQ 33.9375 0 27.875 0 \r\nQ 17.828125 0 11.671875 7.65625 \r\nQ 5.515625 15.328125 5.515625 27.984375 \r\nQ 5.515625 40.671875 11.671875 48.328125 \r\nQ 17.828125 56 27.875 56 \r\nQ 33.9375 56 38.28125 53.609375 \r\nQ 42.625 51.21875 45.40625 46.390625 \r\nL 45.40625 54.6875 \r\nL 54.390625 54.6875 \r\nz\r\n\" id=\"DejaVuSans-103\"/>\r\n      </defs>\r\n      <use xlink:href=\"#DejaVuSans-99\"/>\r\n      <use x=\"54.980469\" xlink:href=\"#DejaVuSans-104\"/>\r\n      <use x=\"118.359375\" xlink:href=\"#DejaVuSans-97\"/>\r\n      <use x=\"179.638672\" xlink:href=\"#DejaVuSans-110\"/>\r\n      <use x=\"243.017578\" xlink:href=\"#DejaVuSans-103\"/>\r\n      <use x=\"306.494141\" xlink:href=\"#DejaVuSans-101\"/>\r\n     </g>\r\n    </g>\r\n   </g>\r\n   <g id=\"patch_3\">\r\n    <path d=\"M 52.160938 224.64 \r\nL 52.160938 7.2 \r\n\" style=\"fill:none;stroke:#000000;stroke-linecap:square;stroke-linejoin:miter;stroke-width:0.8;\"/>\r\n   </g>\r\n   <g id=\"patch_4\">\r\n    <path d=\"M 386.960938 224.64 \r\nL 386.960938 7.2 \r\n\" style=\"fill:none;stroke:#000000;stroke-linecap:square;stroke-linejoin:miter;stroke-width:0.8;\"/>\r\n   </g>\r\n   <g id=\"patch_5\">\r\n    <path d=\"M 52.160937 224.64 \r\nL 386.960938 224.64 \r\n\" style=\"fill:none;stroke:#000000;stroke-linecap:square;stroke-linejoin:miter;stroke-width:0.8;\"/>\r\n   </g>\r\n   <g id=\"patch_6\">\r\n    <path d=\"M 52.160937 7.2 \r\nL 386.960938 7.2 \r\n\" style=\"fill:none;stroke:#000000;stroke-linecap:square;stroke-linejoin:miter;stroke-width:0.8;\"/>\r\n   </g>\r\n  </g>\r\n </g>\r\n <defs>\r\n  <clipPath id=\"p35eb7fba65\">\r\n   <rect height=\"217.44\" width=\"334.8\" x=\"52.160938\" y=\"7.2\"/>\r\n  </clipPath>\r\n </defs>\r\n</svg>\r\n",
      "image/png": "[encoded data removed]"
     },
     "metadata": {
      "needs_background": "light"
     }
    }
   ],
   "source": [
    "stock.plot(x='score', y='change', kind='scatter')"
   ]
  },
  {
   "cell_type": "code",
   "execution_count": 41,
   "metadata": {},
   "outputs": [],
   "source": [
    "y = stock['change']\n",
    "x = stock.drop(['change'], axis=1).drop(['date'], axis=1)\n",
    "\n",
    "X_train, X_test, y_train, y_test = train_test_split(x, y, test_size=0.35, random_state=0)\n"
   ]
  },
  {
   "cell_type": "code",
   "execution_count": 42,
   "metadata": {},
   "outputs": [
    {
     "output_type": "execute_result",
     "data": {
      "text/plain": [
       "         price  pct_change     score\n",
       "2364   12.9889    0.027524  1.312540\n",
       "1477   32.3738    0.027065  0.442261\n",
       "58    114.9700    0.017396 -2.064702\n",
       "2122   20.5314    0.017885  1.633657\n",
       "84    134.1800   -0.020718  0.942256"
      ],
      "text/html": "<div>\n<style scoped>\n    .dataframe tbody tr th:only-of-type {\n        vertical-align: middle;\n    }\n\n    .dataframe tbody tr th {\n        vertical-align: top;\n    }\n\n    .dataframe thead th {\n        text-align: right;\n    }\n</style>\n<table border=\"1\" class=\"dataframe\">\n  <thead>\n    <tr style=\"text-align: right;\">\n      <th></th>\n      <th>price</th>\n      <th>pct_change</th>\n      <th>score</th>\n    </tr>\n  </thead>\n  <tbody>\n    <tr>\n      <th>2364</th>\n      <td>12.9889</td>\n      <td>0.027524</td>\n      <td>1.312540</td>\n    </tr>\n    <tr>\n      <th>1477</th>\n      <td>32.3738</td>\n      <td>0.027065</td>\n      <td>0.442261</td>\n    </tr>\n    <tr>\n      <th>58</th>\n      <td>114.9700</td>\n      <td>0.017396</td>\n      <td>-2.064702</td>\n    </tr>\n    <tr>\n      <th>2122</th>\n      <td>20.5314</td>\n      <td>0.017885</td>\n      <td>1.633657</td>\n    </tr>\n    <tr>\n      <th>84</th>\n      <td>134.1800</td>\n      <td>-0.020718</td>\n      <td>0.942256</td>\n    </tr>\n  </tbody>\n</table>\n</div>"
     },
     "metadata": {},
     "execution_count": 42
    }
   ],
   "source": [
    "X_train.head(5)"
   ]
  },
  {
   "cell_type": "code",
   "execution_count": 43,
   "metadata": {},
   "outputs": [
    {
     "output_type": "execute_result",
     "data": {
      "text/plain": [
       "LinearRegression()"
      ]
     },
     "metadata": {},
     "execution_count": 43
    }
   ],
   "source": [
    "linearRegressor = LinearRegression()\n",
    "linearRegressor.fit(X_train, y_train)"
   ]
  },
  {
   "cell_type": "code",
   "execution_count": 44,
   "metadata": {},
   "outputs": [],
   "source": [
    "prediction = linearRegressor.predict(X_test)"
   ]
  },
  {
   "cell_type": "code",
   "execution_count": 45,
   "metadata": {},
   "outputs": [
    {
     "output_type": "execute_result",
     "data": {
      "text/plain": [
       "0.9595637425075202"
      ]
     },
     "metadata": {},
     "execution_count": 45
    }
   ],
   "source": [
    "linearRegressor.score(X=X_test, y=y_test)"
   ]
  },
  {
   "cell_type": "code",
   "execution_count": 46,
   "metadata": {},
   "outputs": [],
   "source": [
    "rmse = np.sqrt(np.mean((prediction - y_test.values)**2))"
   ]
  },
  {
   "cell_type": "code",
   "execution_count": 47,
   "metadata": {},
   "outputs": [
    {
     "output_type": "execute_result",
     "data": {
      "text/plain": [
       "0.6335825047362859"
      ]
     },
     "metadata": {},
     "execution_count": 47
    }
   ],
   "source": [
    "rmse"
   ]
  },
  {
   "cell_type": "code",
   "execution_count": null,
   "metadata": {},
   "outputs": [],
   "source": []
  }
 ]
}